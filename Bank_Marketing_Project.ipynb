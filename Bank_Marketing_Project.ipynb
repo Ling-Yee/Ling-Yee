{
  "nbformat": 4,
  "nbformat_minor": 0,
  "metadata": {
    "kernelspec": {
      "display_name": "Python 3",
      "language": "python",
      "name": "python3"
    },
    "language_info": {
      "codemirror_mode": {
        "name": "ipython",
        "version": 3
      },
      "file_extension": ".py",
      "mimetype": "text/x-python",
      "name": "python",
      "nbconvert_exporter": "python",
      "pygments_lexer": "ipython3",
      "version": "3.8.3"
    },
    "colab": {
      "name": "Bank-Marketing-Project.ipynb",
      "provenance": [],
      "collapsed_sections": [],
      "include_colab_link": true
    }
  },
  "cells": [
    {
      "cell_type": "markdown",
      "metadata": {
        "id": "view-in-github",
        "colab_type": "text"
      },
      "source": [
        "<a href=\"https://colab.research.google.com/github/Ling-Yee/Ling-Yee/blob/master/Bank_Marketing_Project.ipynb\" target=\"_parent\"><img src=\"https://colab.research.google.com/assets/colab-badge.svg\" alt=\"Open In Colab\"/></a>"
      ]
    },
    {
      "cell_type": "markdown",
      "metadata": {
        "id": "rn9JiuNXfqMw",
        "colab_type": "text"
      },
      "source": [
        "## Predicting subscription to bank term deposit product under a phone marketing campaign"
      ]
    },
    {
      "cell_type": "markdown",
      "metadata": {
        "id": "1o3AMsfsfqN6",
        "colab_type": "text"
      },
      "source": [
        "### Data\n",
        "The data is extracted from Kaggle : https://www.kaggle.com/henriqueyamahata/bank-marketing"
      ]
    },
    {
      "cell_type": "markdown",
      "metadata": {
        "id": "dMDcM1ZjfqON",
        "colab_type": "text"
      },
      "source": [
        "### Features"
      ]
    },
    {
      "cell_type": "markdown",
      "metadata": {
        "id": "3cDYXYqOfqOe",
        "colab_type": "text"
      },
      "source": [
        "#### Related to customer's background\n",
        "* Age: (numeric)\n",
        "* Job : type of job (categorical: 'admin.', 'blue-collar', 'entrepreneur', 'housemaid', 'management', 'retired', 'self-employed', 'services', 'student', 'technician', 'unemployed', 'unknown')\n",
        "* Marital : marital status (categorical: 'divorced', 'married', 'single', 'unknown' ; note: 'divorced' means divorced or widowed)\n",
        "* Education (categorical: 'basic.4y', 'basic.6y', 'basic.9y', 'high.school', 'illiterate', 'professional.course', 'university.degree', 'unknown')\n",
        "* Default: has credit in default? (categorical: 'no', 'yes', 'unknown')\n",
        "* Housing: has housing loan? (categorical: 'no', 'yes', 'unknown')\n",
        "* Loan: has personal loan? (categorical: 'no', 'yes', 'unknown')"
      ]
    },
    {
      "cell_type": "code",
      "metadata": {
        "id": "DTFALxHlfqO4",
        "colab_type": "code",
        "colab": {}
      },
      "source": [
        "# Comment: We would have to investigate the frequency of \"unknown\" instances"
      ],
      "execution_count": 0,
      "outputs": []
    },
    {
      "cell_type": "markdown",
      "metadata": {
        "id": "ZEODpxJofqQM",
        "colab_type": "text"
      },
      "source": [
        "#### Related to last contact to the clients under the campaign\n",
        "\n",
        "* Contact: contact communication type (categorical:\n",
        "'cellular','telephone')\n",
        "* Month: last contact month of year (categorical: 'jan', 'feb', 'mar',\n",
        "…, 'nov', 'dec')\n",
        "* Dayofweek: last contact day of the week (categorical:\n",
        "'mon','tue','wed','thu','fri')\n",
        "* Duration: last contact duration, in seconds (numeric) \n",
        "Important note: this attribute highly affects the output target (e.g., if\n",
        "duration=0 then y='no'). Yet, the duration is not known before a call\n",
        "is performed. Also, after the end of the call y is obviously known.\n",
        "Thus, this input should only be included for benchmark purposes and\n",
        "should be discarded if the intention is to have a realistic\n",
        "predictive model."
      ]
    },
    {
      "cell_type": "code",
      "metadata": {
        "id": "RfGimVI1fqQY",
        "colab_type": "code",
        "colab": {}
      },
      "source": [
        "### Comment: Would investigate the correlation between Duration and DV,\n",
        "### Dont include Duration in our model"
      ],
      "execution_count": 0,
      "outputs": []
    },
    {
      "cell_type": "markdown",
      "metadata": {
        "id": "XLO45j-yfqRc",
        "colab_type": "text"
      },
      "source": [
        "### Other attributes of client/ campaign:\n",
        "* Campaign: number of contacts performed during this campaign and for\n",
        "this client (numeric, includes last contact)\n",
        "* Pdays: number of days that passed by after the client was last\n",
        "contacted from a previous campaign (numeric; 999 means client was not\n",
        "previously contacted)\n",
        "* Previous: number of contacts performed before this campaign and for\n",
        "this client (numeric)\n",
        "* Poutcome: outcome of the previous marketing campaign (categorical:\n",
        "'failure','nonexistent','success')"
      ]
    },
    {
      "cell_type": "markdown",
      "metadata": {
        "id": "RFH_5hkAfqRj",
        "colab_type": "text"
      },
      "source": [
        "### Related to Socioeconomic context:\n",
        "* Emp.var.rate: employment variation rate - quarterly indicator\n",
        "(numeric)\n",
        "* Cons.price.idx: consumer price index - monthly indicator (numeric)\n",
        "* Cons.conf.idx: consumer confidence index - monthly indicator\n",
        "(numeric)\n",
        "* Euribor3m: euribor (basic interest rate used in EU interbank market) 3 month rate - daily indicator (numeric)\n",
        "* Nr.employed: number of employees - quarterly indicator (numeric)"
      ]
    },
    {
      "cell_type": "markdown",
      "metadata": {
        "id": "1GSiN8zLfqRp",
        "colab_type": "text"
      },
      "source": [
        "### Target variable/ Dependent variable (DV)\n",
        "y - has the client subscribed a term deposit? (binary: 'yes', 'no')"
      ]
    },
    {
      "cell_type": "markdown",
      "metadata": {
        "id": "h9cBhKoMfqRv",
        "colab_type": "text"
      },
      "source": [
        "#### Load Data and tools"
      ]
    },
    {
      "cell_type": "code",
      "metadata": {
        "id": "HoNduho8fqR0",
        "colab_type": "code",
        "colab": {}
      },
      "source": [
        "import pandas as pd\n",
        "import numpy as np\n",
        "import matplotlib.pyplot as plt\n",
        "\n",
        "%matplotlib inline"
      ],
      "execution_count": 0,
      "outputs": []
    },
    {
      "cell_type": "markdown",
      "metadata": {
        "id": "YdirnjpZfqSl",
        "colab_type": "text"
      },
      "source": [
        "After changed the delimiter format of the raw csv file from semicolon to comma, we upload the data"
      ]
    },
    {
      "cell_type": "code",
      "metadata": {
        "id": "oO8PyAo3fqSp",
        "colab_type": "code",
        "outputId": "6f9bb997-27dc-488f-c2eb-54f9fb9543aa",
        "colab": {
          "resources": {
            "http://localhost:8080/nbextensions/google.colab/files.js": {
              "data": "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",
              "ok": true,
              "headers": [
                [
                  "content-type",
                  "application/javascript"
                ]
              ],
              "status": 200,
              "status_text": ""
            }
          },
          "base_uri": "https://localhost:8080/",
          "height": 93
        }
      },
      "source": [
        "from google.colab import files\n",
        "data_to_load = files.upload()\n",
        "\n",
        "#df = pd.read_csv(\"bank-marketing-data.csv\")"
      ],
      "execution_count": 3,
      "outputs": [
        {
          "output_type": "display_data",
          "data": {
            "text/html": [
              "\n",
              "     <input type=\"file\" id=\"files-4d31196c-1b75-48ea-afad-d8e7d25d4485\" name=\"files[]\" multiple disabled />\n",
              "     <output id=\"result-4d31196c-1b75-48ea-afad-d8e7d25d4485\">\n",
              "      Upload widget is only available when the cell has been executed in the\n",
              "      current browser session. Please rerun this cell to enable.\n",
              "      </output>\n",
              "      <script src=\"/nbextensions/google.colab/files.js\"></script> "
            ],
            "text/plain": [
              "<IPython.core.display.HTML object>"
            ]
          },
          "metadata": {
            "tags": []
          }
        },
        {
          "output_type": "stream",
          "text": [
            "Saving bank-marketing-data.csv to bank-marketing-data.csv\n"
          ],
          "name": "stdout"
        }
      ]
    },
    {
      "cell_type": "code",
      "metadata": {
        "id": "SFlkN0Z4gxVv",
        "colab_type": "code",
        "colab": {}
      },
      "source": [
        "import io\n",
        "df = pd.read_csv(io.BytesIO(data_to_load[\"bank-marketing-data.csv\"]))"
      ],
      "execution_count": 0,
      "outputs": []
    },
    {
      "cell_type": "code",
      "metadata": {
        "id": "7xAnE60bfqTE",
        "colab_type": "code",
        "outputId": "9f9ee38f-f8ff-487d-c306-c04d138d46f8",
        "colab": {}
      },
      "source": [
        "df.shape"
      ],
      "execution_count": 0,
      "outputs": [
        {
          "output_type": "execute_result",
          "data": {
            "text/plain": [
              "(41188, 21)"
            ]
          },
          "metadata": {
            "tags": []
          },
          "execution_count": 12
        }
      ]
    },
    {
      "cell_type": "markdown",
      "metadata": {
        "id": "rHoljHPDfqTk",
        "colab_type": "text"
      },
      "source": [
        "There are 20 features, 41188 subjects in the data"
      ]
    },
    {
      "cell_type": "code",
      "metadata": {
        "id": "CeKQT5R7aXzU",
        "colab_type": "code",
        "outputId": "10abda3e-81ba-47bc-f182-0d1d3f8c8980",
        "colab": {
          "base_uri": "https://localhost:8080/",
          "height": 34
        }
      },
      "source": [
        "# Splot the data into training and test sets\n",
        "from sklearn.model_selection import train_test_split\n",
        "\n",
        "X = df.drop(\"y\", axis = 1)\n",
        "y = df[\"y\"]\n",
        "y.isna().sum()"
      ],
      "execution_count": 18,
      "outputs": [
        {
          "output_type": "execute_result",
          "data": {
            "text/plain": [
              "0"
            ]
          },
          "metadata": {
            "tags": []
          },
          "execution_count": 18
        }
      ]
    },
    {
      "cell_type": "code",
      "metadata": {
        "id": "c5ahzRJEdjpG",
        "colab_type": "code",
        "colab": {}
      },
      "source": [
        "np.random.seed(45)\n",
        "X_train, X_test, y_train, y_test =  train_test_split(X,y,test_size=0.2)"
      ],
      "execution_count": 0,
      "outputs": []
    },
    {
      "cell_type": "code",
      "metadata": {
        "id": "HsbuF0Vlcsxf",
        "colab_type": "code",
        "outputId": "e7ef6c59-304f-4406-e05e-361d3a906416",
        "colab": {
          "base_uri": "https://localhost:8080/",
          "height": 34
        }
      },
      "source": [
        "X_train.shape, y_train.shape"
      ],
      "execution_count": 20,
      "outputs": [
        {
          "output_type": "execute_result",
          "data": {
            "text/plain": [
              "((32950, 20), (32950,))"
            ]
          },
          "metadata": {
            "tags": []
          },
          "execution_count": 20
        }
      ]
    },
    {
      "cell_type": "code",
      "metadata": {
        "id": "Smm6IFpgfqTp",
        "colab_type": "code",
        "outputId": "e76fa690-3c4a-4e99-de00-733344ca1efc",
        "colab": {
          "base_uri": "https://localhost:8080/",
          "height": 258
        }
      },
      "source": [
        "X_train.head()"
      ],
      "execution_count": 21,
      "outputs": [
        {
          "output_type": "execute_result",
          "data": {
            "text/html": [
              "<div>\n",
              "<style scoped>\n",
              "    .dataframe tbody tr th:only-of-type {\n",
              "        vertical-align: middle;\n",
              "    }\n",
              "\n",
              "    .dataframe tbody tr th {\n",
              "        vertical-align: top;\n",
              "    }\n",
              "\n",
              "    .dataframe thead th {\n",
              "        text-align: right;\n",
              "    }\n",
              "</style>\n",
              "<table border=\"1\" class=\"dataframe\">\n",
              "  <thead>\n",
              "    <tr style=\"text-align: right;\">\n",
              "      <th></th>\n",
              "      <th>age</th>\n",
              "      <th>job</th>\n",
              "      <th>marital</th>\n",
              "      <th>education</th>\n",
              "      <th>default</th>\n",
              "      <th>housing</th>\n",
              "      <th>loan</th>\n",
              "      <th>contact</th>\n",
              "      <th>month</th>\n",
              "      <th>day_of_week</th>\n",
              "      <th>duration</th>\n",
              "      <th>campaign</th>\n",
              "      <th>pdays</th>\n",
              "      <th>previous</th>\n",
              "      <th>poutcome</th>\n",
              "      <th>emp.var.rate</th>\n",
              "      <th>cons.price.idx</th>\n",
              "      <th>cons.conf.idx</th>\n",
              "      <th>euribor3m</th>\n",
              "      <th>nr.employed</th>\n",
              "    </tr>\n",
              "  </thead>\n",
              "  <tbody>\n",
              "    <tr>\n",
              "      <th>6125</th>\n",
              "      <td>47</td>\n",
              "      <td>technician</td>\n",
              "      <td>married</td>\n",
              "      <td>professional.course</td>\n",
              "      <td>unknown</td>\n",
              "      <td>yes</td>\n",
              "      <td>no</td>\n",
              "      <td>telephone</td>\n",
              "      <td>may</td>\n",
              "      <td>tue</td>\n",
              "      <td>272</td>\n",
              "      <td>3</td>\n",
              "      <td>999</td>\n",
              "      <td>0</td>\n",
              "      <td>nonexistent</td>\n",
              "      <td>1.1</td>\n",
              "      <td>93.994</td>\n",
              "      <td>-36.4</td>\n",
              "      <td>4.857</td>\n",
              "      <td>5191.0</td>\n",
              "    </tr>\n",
              "    <tr>\n",
              "      <th>7608</th>\n",
              "      <td>41</td>\n",
              "      <td>blue-collar</td>\n",
              "      <td>married</td>\n",
              "      <td>basic.4y</td>\n",
              "      <td>no</td>\n",
              "      <td>no</td>\n",
              "      <td>no</td>\n",
              "      <td>telephone</td>\n",
              "      <td>may</td>\n",
              "      <td>fri</td>\n",
              "      <td>512</td>\n",
              "      <td>2</td>\n",
              "      <td>999</td>\n",
              "      <td>0</td>\n",
              "      <td>nonexistent</td>\n",
              "      <td>1.1</td>\n",
              "      <td>93.994</td>\n",
              "      <td>-36.4</td>\n",
              "      <td>4.864</td>\n",
              "      <td>5191.0</td>\n",
              "    </tr>\n",
              "    <tr>\n",
              "      <th>14291</th>\n",
              "      <td>42</td>\n",
              "      <td>technician</td>\n",
              "      <td>married</td>\n",
              "      <td>professional.course</td>\n",
              "      <td>unknown</td>\n",
              "      <td>yes</td>\n",
              "      <td>no</td>\n",
              "      <td>cellular</td>\n",
              "      <td>jul</td>\n",
              "      <td>mon</td>\n",
              "      <td>77</td>\n",
              "      <td>3</td>\n",
              "      <td>999</td>\n",
              "      <td>0</td>\n",
              "      <td>nonexistent</td>\n",
              "      <td>1.4</td>\n",
              "      <td>93.918</td>\n",
              "      <td>-42.7</td>\n",
              "      <td>4.962</td>\n",
              "      <td>5228.1</td>\n",
              "    </tr>\n",
              "    <tr>\n",
              "      <th>29172</th>\n",
              "      <td>32</td>\n",
              "      <td>blue-collar</td>\n",
              "      <td>single</td>\n",
              "      <td>high.school</td>\n",
              "      <td>no</td>\n",
              "      <td>yes</td>\n",
              "      <td>no</td>\n",
              "      <td>cellular</td>\n",
              "      <td>apr</td>\n",
              "      <td>fri</td>\n",
              "      <td>1080</td>\n",
              "      <td>1</td>\n",
              "      <td>999</td>\n",
              "      <td>0</td>\n",
              "      <td>nonexistent</td>\n",
              "      <td>-1.8</td>\n",
              "      <td>93.075</td>\n",
              "      <td>-47.1</td>\n",
              "      <td>1.405</td>\n",
              "      <td>5099.1</td>\n",
              "    </tr>\n",
              "    <tr>\n",
              "      <th>21909</th>\n",
              "      <td>36</td>\n",
              "      <td>technician</td>\n",
              "      <td>single</td>\n",
              "      <td>university.degree</td>\n",
              "      <td>no</td>\n",
              "      <td>yes</td>\n",
              "      <td>no</td>\n",
              "      <td>cellular</td>\n",
              "      <td>aug</td>\n",
              "      <td>wed</td>\n",
              "      <td>123</td>\n",
              "      <td>1</td>\n",
              "      <td>999</td>\n",
              "      <td>0</td>\n",
              "      <td>nonexistent</td>\n",
              "      <td>1.4</td>\n",
              "      <td>93.444</td>\n",
              "      <td>-36.1</td>\n",
              "      <td>4.964</td>\n",
              "      <td>5228.1</td>\n",
              "    </tr>\n",
              "  </tbody>\n",
              "</table>\n",
              "</div>"
            ],
            "text/plain": [
              "       age          job  marital  ... cons.conf.idx euribor3m nr.employed\n",
              "6125    47   technician  married  ...         -36.4     4.857      5191.0\n",
              "7608    41  blue-collar  married  ...         -36.4     4.864      5191.0\n",
              "14291   42   technician  married  ...         -42.7     4.962      5228.1\n",
              "29172   32  blue-collar   single  ...         -47.1     1.405      5099.1\n",
              "21909   36   technician   single  ...         -36.1     4.964      5228.1\n",
              "\n",
              "[5 rows x 20 columns]"
            ]
          },
          "metadata": {
            "tags": []
          },
          "execution_count": 21
        }
      ]
    },
    {
      "cell_type": "markdown",
      "metadata": {
        "id": "BZF3aSInfqUD",
        "colab_type": "text"
      },
      "source": [
        "### Exploratory Data Analysis"
      ]
    },
    {
      "cell_type": "code",
      "metadata": {
        "id": "t1eBMkBWfqUI",
        "colab_type": "code",
        "outputId": "e3611ad3-1e53-441b-d4da-fca6f108c224",
        "colab": {
          "base_uri": "https://localhost:8080/",
          "height": 68
        }
      },
      "source": [
        "y_train.value_counts()"
      ],
      "execution_count": 22,
      "outputs": [
        {
          "output_type": "execute_result",
          "data": {
            "text/plain": [
              "no     29250\n",
              "yes     3700\n",
              "Name: y, dtype: int64"
            ]
          },
          "metadata": {
            "tags": []
          },
          "execution_count": 22
        }
      ]
    },
    {
      "cell_type": "code",
      "metadata": {
        "id": "whehFCpyfqUd",
        "colab_type": "code",
        "colab": {}
      },
      "source": [
        "# Comment: Our data class is imbalanced, beware of evaluation metrics "
      ],
      "execution_count": 0,
      "outputs": []
    },
    {
      "cell_type": "code",
      "metadata": {
        "id": "EaW4-Fo6fqU4",
        "colab_type": "code",
        "outputId": "109440c4-c8fd-4f57-ea93-778b990082ad",
        "colab": {
          "base_uri": "https://localhost:8080/",
          "height": 476
        }
      },
      "source": [
        "X_train.info()"
      ],
      "execution_count": 24,
      "outputs": [
        {
          "output_type": "stream",
          "text": [
            "<class 'pandas.core.frame.DataFrame'>\n",
            "Int64Index: 32950 entries, 6125 to 6558\n",
            "Data columns (total 20 columns):\n",
            " #   Column          Non-Null Count  Dtype  \n",
            "---  ------          --------------  -----  \n",
            " 0   age             32950 non-null  int64  \n",
            " 1   job             32950 non-null  object \n",
            " 2   marital         32950 non-null  object \n",
            " 3   education       32950 non-null  object \n",
            " 4   default         32950 non-null  object \n",
            " 5   housing         32950 non-null  object \n",
            " 6   loan            32950 non-null  object \n",
            " 7   contact         32950 non-null  object \n",
            " 8   month           32950 non-null  object \n",
            " 9   day_of_week     32950 non-null  object \n",
            " 10  duration        32950 non-null  int64  \n",
            " 11  campaign        32950 non-null  int64  \n",
            " 12  pdays           32950 non-null  int64  \n",
            " 13  previous        32950 non-null  int64  \n",
            " 14  poutcome        32950 non-null  object \n",
            " 15  emp.var.rate    32950 non-null  float64\n",
            " 16  cons.price.idx  32950 non-null  float64\n",
            " 17  cons.conf.idx   32950 non-null  float64\n",
            " 18  euribor3m       32950 non-null  float64\n",
            " 19  nr.employed     32950 non-null  float64\n",
            "dtypes: float64(5), int64(5), object(10)\n",
            "memory usage: 5.3+ MB\n"
          ],
          "name": "stdout"
        }
      ]
    },
    {
      "cell_type": "code",
      "metadata": {
        "id": "Wf_dYGihfqVs",
        "colab_type": "code",
        "outputId": "b2e9888f-36d4-4023-c9cc-5996e082c191",
        "colab": {
          "base_uri": "https://localhost:8080/",
          "height": 374
        }
      },
      "source": [
        "X_train.isna().sum()"
      ],
      "execution_count": 25,
      "outputs": [
        {
          "output_type": "execute_result",
          "data": {
            "text/plain": [
              "age               0\n",
              "job               0\n",
              "marital           0\n",
              "education         0\n",
              "default           0\n",
              "housing           0\n",
              "loan              0\n",
              "contact           0\n",
              "month             0\n",
              "day_of_week       0\n",
              "duration          0\n",
              "campaign          0\n",
              "pdays             0\n",
              "previous          0\n",
              "poutcome          0\n",
              "emp.var.rate      0\n",
              "cons.price.idx    0\n",
              "cons.conf.idx     0\n",
              "euribor3m         0\n",
              "nr.employed       0\n",
              "dtype: int64"
            ]
          },
          "metadata": {
            "tags": []
          },
          "execution_count": 25
        }
      ]
    },
    {
      "cell_type": "markdown",
      "metadata": {
        "id": "vAvkNQllfqWD",
        "colab_type": "text"
      },
      "source": [
        "There are no empty cells."
      ]
    },
    {
      "cell_type": "code",
      "metadata": {
        "id": "UfndVQLHfqWM",
        "colab_type": "code",
        "outputId": "d75a223a-015e-4341-ce39-2fa3eabe8e64",
        "colab": {
          "base_uri": "https://localhost:8080/",
          "height": 317
        }
      },
      "source": [
        "X_train.describe()"
      ],
      "execution_count": 26,
      "outputs": [
        {
          "output_type": "execute_result",
          "data": {
            "text/html": [
              "<div>\n",
              "<style scoped>\n",
              "    .dataframe tbody tr th:only-of-type {\n",
              "        vertical-align: middle;\n",
              "    }\n",
              "\n",
              "    .dataframe tbody tr th {\n",
              "        vertical-align: top;\n",
              "    }\n",
              "\n",
              "    .dataframe thead th {\n",
              "        text-align: right;\n",
              "    }\n",
              "</style>\n",
              "<table border=\"1\" class=\"dataframe\">\n",
              "  <thead>\n",
              "    <tr style=\"text-align: right;\">\n",
              "      <th></th>\n",
              "      <th>age</th>\n",
              "      <th>duration</th>\n",
              "      <th>campaign</th>\n",
              "      <th>pdays</th>\n",
              "      <th>previous</th>\n",
              "      <th>emp.var.rate</th>\n",
              "      <th>cons.price.idx</th>\n",
              "      <th>cons.conf.idx</th>\n",
              "      <th>euribor3m</th>\n",
              "      <th>nr.employed</th>\n",
              "    </tr>\n",
              "  </thead>\n",
              "  <tbody>\n",
              "    <tr>\n",
              "      <th>count</th>\n",
              "      <td>32950.000000</td>\n",
              "      <td>32950.000000</td>\n",
              "      <td>32950.000000</td>\n",
              "      <td>32950.000000</td>\n",
              "      <td>32950.000000</td>\n",
              "      <td>32950.000000</td>\n",
              "      <td>32950.000000</td>\n",
              "      <td>32950.000000</td>\n",
              "      <td>32950.000000</td>\n",
              "      <td>32950.000000</td>\n",
              "    </tr>\n",
              "    <tr>\n",
              "      <th>mean</th>\n",
              "      <td>40.050531</td>\n",
              "      <td>258.156783</td>\n",
              "      <td>2.558786</td>\n",
              "      <td>962.623794</td>\n",
              "      <td>0.173141</td>\n",
              "      <td>0.084671</td>\n",
              "      <td>93.576860</td>\n",
              "      <td>-40.488774</td>\n",
              "      <td>3.624429</td>\n",
              "      <td>5167.078807</td>\n",
              "    </tr>\n",
              "    <tr>\n",
              "      <th>std</th>\n",
              "      <td>10.443274</td>\n",
              "      <td>261.787082</td>\n",
              "      <td>2.774802</td>\n",
              "      <td>186.551025</td>\n",
              "      <td>0.496589</td>\n",
              "      <td>1.570279</td>\n",
              "      <td>0.578879</td>\n",
              "      <td>4.625069</td>\n",
              "      <td>1.734009</td>\n",
              "      <td>72.279889</td>\n",
              "    </tr>\n",
              "    <tr>\n",
              "      <th>min</th>\n",
              "      <td>17.000000</td>\n",
              "      <td>0.000000</td>\n",
              "      <td>1.000000</td>\n",
              "      <td>0.000000</td>\n",
              "      <td>0.000000</td>\n",
              "      <td>-3.400000</td>\n",
              "      <td>92.201000</td>\n",
              "      <td>-50.800000</td>\n",
              "      <td>0.634000</td>\n",
              "      <td>4963.600000</td>\n",
              "    </tr>\n",
              "    <tr>\n",
              "      <th>25%</th>\n",
              "      <td>32.000000</td>\n",
              "      <td>102.000000</td>\n",
              "      <td>1.000000</td>\n",
              "      <td>999.000000</td>\n",
              "      <td>0.000000</td>\n",
              "      <td>-1.800000</td>\n",
              "      <td>93.075000</td>\n",
              "      <td>-42.700000</td>\n",
              "      <td>1.344000</td>\n",
              "      <td>5099.100000</td>\n",
              "    </tr>\n",
              "    <tr>\n",
              "      <th>50%</th>\n",
              "      <td>38.000000</td>\n",
              "      <td>179.000000</td>\n",
              "      <td>2.000000</td>\n",
              "      <td>999.000000</td>\n",
              "      <td>0.000000</td>\n",
              "      <td>1.100000</td>\n",
              "      <td>93.749000</td>\n",
              "      <td>-41.800000</td>\n",
              "      <td>4.857000</td>\n",
              "      <td>5191.000000</td>\n",
              "    </tr>\n",
              "    <tr>\n",
              "      <th>75%</th>\n",
              "      <td>47.000000</td>\n",
              "      <td>318.000000</td>\n",
              "      <td>3.000000</td>\n",
              "      <td>999.000000</td>\n",
              "      <td>0.000000</td>\n",
              "      <td>1.400000</td>\n",
              "      <td>93.994000</td>\n",
              "      <td>-36.400000</td>\n",
              "      <td>4.961000</td>\n",
              "      <td>5228.100000</td>\n",
              "    </tr>\n",
              "    <tr>\n",
              "      <th>max</th>\n",
              "      <td>98.000000</td>\n",
              "      <td>4918.000000</td>\n",
              "      <td>56.000000</td>\n",
              "      <td>999.000000</td>\n",
              "      <td>7.000000</td>\n",
              "      <td>1.400000</td>\n",
              "      <td>94.767000</td>\n",
              "      <td>-26.900000</td>\n",
              "      <td>5.045000</td>\n",
              "      <td>5228.100000</td>\n",
              "    </tr>\n",
              "  </tbody>\n",
              "</table>\n",
              "</div>"
            ],
            "text/plain": [
              "                age      duration  ...     euribor3m   nr.employed\n",
              "count  32950.000000  32950.000000  ...  32950.000000  32950.000000\n",
              "mean      40.050531    258.156783  ...      3.624429   5167.078807\n",
              "std       10.443274    261.787082  ...      1.734009     72.279889\n",
              "min       17.000000      0.000000  ...      0.634000   4963.600000\n",
              "25%       32.000000    102.000000  ...      1.344000   5099.100000\n",
              "50%       38.000000    179.000000  ...      4.857000   5191.000000\n",
              "75%       47.000000    318.000000  ...      4.961000   5228.100000\n",
              "max       98.000000   4918.000000  ...      5.045000   5228.100000\n",
              "\n",
              "[8 rows x 10 columns]"
            ]
          },
          "metadata": {
            "tags": []
          },
          "execution_count": 26
        }
      ]
    },
    {
      "cell_type": "code",
      "metadata": {
        "id": "KBuu44ylfqWh",
        "colab_type": "code",
        "outputId": "d23414a7-ac33-45f3-d668-c843ec12ae53",
        "colab": {
          "base_uri": "https://localhost:8080/",
          "height": 1000
        }
      },
      "source": [
        "X_train.plot.hist(figsize=(10,30),subplots=True, bins=10);"
      ],
      "execution_count": 27,
      "outputs": [
        {
          "output_type": "display_data",
          "data": {
            "image/png": "[encoded data removed]",
            "text/plain": [
              "<Figure size 720x2160 with 10 Axes>"
            ]
          },
          "metadata": {
            "tags": []
          }
        }
      ]
    },
    {
      "cell_type": "markdown",
      "metadata": {
        "id": "BxnBXJkQfqW0",
        "colab_type": "text"
      },
      "source": [
        "nr.employed, pdays and duration have different scales than the rest of the data, let's look at them separately"
      ]
    },
    {
      "cell_type": "code",
      "metadata": {
        "id": "wEtia7R9fqW4",
        "colab_type": "code",
        "outputId": "57cf0073-44cc-4fb0-96c5-1cc4a53eec24",
        "colab": {
          "base_uri": "https://localhost:8080/",
          "height": 268
        }
      },
      "source": [
        "X_train[\"nr.employed\"].plot.hist(bins=10);"
      ],
      "execution_count": 28,
      "outputs": [
        {
          "output_type": "display_data",
          "data": {
            "image/png": "[encoded data removed]",
            "text/plain": [
              "<Figure size 432x288 with 1 Axes>"
            ]
          },
          "metadata": {
            "tags": []
          }
        }
      ]
    },
    {
      "cell_type": "code",
      "metadata": {
        "id": "1BeyGQoxfqXL",
        "colab_type": "code",
        "outputId": "59a21d7a-ba5f-4f17-d8af-c6e17e6b995d",
        "colab": {
          "base_uri": "https://localhost:8080/",
          "height": 221
        }
      },
      "source": [
        "X_train[\"nr.employed\"].value_counts()"
      ],
      "execution_count": 29,
      "outputs": [
        {
          "output_type": "execute_result",
          "data": {
            "text/plain": [
              "5228.1    12983\n",
              "5099.1     6776\n",
              "5191.0     6251\n",
              "5195.8     2942\n",
              "5076.2     1343\n",
              "5017.5      849\n",
              "4991.6      641\n",
              "5008.7      520\n",
              "4963.6      502\n",
              "5023.5      137\n",
              "5176.3        6\n",
              "Name: nr.employed, dtype: int64"
            ]
          },
          "metadata": {
            "tags": []
          },
          "execution_count": 29
        }
      ]
    },
    {
      "cell_type": "markdown",
      "metadata": {
        "id": "g02x3z1jfqXg",
        "colab_type": "text"
      },
      "source": [
        "nr.employed's distribution is not normal and there seems to be 3 clusters in the population. Let' see if this interacts with subscription rate. "
      ]
    },
    {
      "cell_type": "code",
      "metadata": {
        "id": "_ib482KPGEAh",
        "colab_type": "code",
        "outputId": "45548da2-4e28-48e3-b865-3cdef3580f6b",
        "colab": {
          "base_uri": "https://localhost:8080/",
          "height": 285
        }
      },
      "source": [
        "import seaborn as sns\n",
        "sns.set(style=\"whitegrid\")\n",
        "temp_data = pd.concat([y_train, X_train[\"nr.employed\"]], axis=1)\n",
        "ax = sns.boxplot(x=\"y\", y=\"nr.employed\", data = temp_data);"
      ],
      "execution_count": 30,
      "outputs": [
        {
          "output_type": "display_data",
          "data": {
            "image/png": "[encoded data removed]",
            "text/plain": [
              "<Figure size 432x288 with 1 Axes>"
            ]
          },
          "metadata": {
            "tags": []
          }
        }
      ]
    },
    {
      "cell_type": "markdown",
      "metadata": {
        "id": "Pcqpz2tyHmGb",
        "colab_type": "text"
      },
      "source": [
        "Seems like higher number of this No. of Employed indicator is correlated with lower subscription rate. Let's see if discretize nr.employed help us clarify the interaction."
      ]
    },
    {
      "cell_type": "code",
      "metadata": {
        "id": "1FUrZhqtLx7N",
        "colab_type": "code",
        "outputId": "b4d1b8ad-844c-4ef2-eaa1-ea227a9e2e0e",
        "colab": {
          "base_uri": "https://localhost:8080/",
          "height": 170
        }
      },
      "source": [
        "X_train[\"nr.employed\"].describe()"
      ],
      "execution_count": 0,
      "outputs": [
        {
          "output_type": "execute_result",
          "data": {
            "text/plain": [
              "count    32950.000000\n",
              "mean      5167.078807\n",
              "std         72.279889\n",
              "min       4963.600000\n",
              "25%       5099.100000\n",
              "50%       5191.000000\n",
              "75%       5228.100000\n",
              "max       5228.100000\n",
              "Name: nr.employed, dtype: float64"
            ]
          },
          "metadata": {
            "tags": []
          },
          "execution_count": 20
        }
      ]
    },
    {
      "cell_type": "code",
      "metadata": {
        "id": "smZMmwFtIuos",
        "colab_type": "code",
        "colab": {}
      },
      "source": [
        "cut_labels = [\"Below5100\", \"5100-5199\", \"5200-5229\",\"5230orAbove\"]\n",
        "cut_bins = [0,5100,5200,5230,float(\"inf\")]\n",
        "nremployed_discrete = pd.cut(X_train[\"nr.employed\"], bins = cut_bins, labels = cut_labels, right = False)"
      ],
      "execution_count": 0,
      "outputs": []
    },
    {
      "cell_type": "code",
      "metadata": {
        "id": "pbXAHzuvJxk0",
        "colab_type": "code",
        "outputId": "7ec4fa79-d4f3-4fb0-981d-6a93260d7123",
        "colab": {
          "base_uri": "https://localhost:8080/",
          "height": 404
        }
      },
      "source": [
        "temp_data = pd.crosstab(nremployed_discrete, y_train)\n",
        "#temp_data = temp_data.reindex(index=nremployed_discrete, columns=y_train, fill_value=0)\n",
        "temp_data.plot(kind=\"bar\",\n",
        "              figsize=(10,6),\n",
        "              color=[\"lightblue\",\"salmon\"])\n",
        "plt.title(\"Subscription by Employment No. Quarterly Indicator\")\n",
        "plt.xlabel(\"Employment No. Quarterly Indicator\")\n",
        "plt.ylabel(\"Number of Subscribed and Not subscribed\")\n",
        "plt.legend([\"No\",\"Yes\"])\n",
        "plt.xticks(rotation = 0);"
      ],
      "execution_count": 0,
      "outputs": [
        {
          "output_type": "display_data",
          "data": {
            "image/png": "[encoded data removed]",
            "text/plain": [
              "<Figure size 720x432 with 1 Axes>"
            ]
          },
          "metadata": {
            "tags": [],
            "needs_background": "light"
          }
        }
      ]
    },
    {
      "cell_type": "markdown",
      "metadata": {
        "id": "KaRob4U6RaYc",
        "colab_type": "text"
      },
      "source": [
        "We discretize \"nr.employed\" into 4 levels by IQR when in fact there's no example above 75th quantitle (5229). The number of instances in each bin shown above is quite even. We shall alter nr.employed in this way."
      ]
    },
    {
      "cell_type": "code",
      "metadata": {
        "id": "YDx1vgEeSbEQ",
        "colab_type": "code",
        "colab": {}
      },
      "source": [
        "cut_labels = [\"Below5100\", \"5100-5199\", \"5200orAbove\"]\n",
        "cut_bins = [0,5100,5200,float(\"inf\")]\n",
        "X_train[\"nr.employed\"] = pd.cut(X_train[\"nr.employed\"], bins = cut_bins, labels = cut_labels, right = False)\n",
        "X_test[\"nr.employed\"] = pd.cut(X_test[\"nr.employed\"], bins = cut_bins, labels = cut_labels, right = False)"
      ],
      "execution_count": 0,
      "outputs": []
    },
    {
      "cell_type": "code",
      "metadata": {
        "id": "jDlRQL3MfqXl",
        "colab_type": "code",
        "outputId": "8169de6e-d94d-4cf3-abd3-acd064b427cf",
        "colab": {
          "base_uri": "https://localhost:8080/",
          "height": 265
        }
      },
      "source": [
        "X_train[\"pdays\"].plot.hist(bins=10);"
      ],
      "execution_count": 0,
      "outputs": [
        {
          "output_type": "display_data",
          "data": {
            "image/png": "[encoded data removed]",
            "text/plain": [
              "<Figure size 432x288 with 1 Axes>"
            ]
          },
          "metadata": {
            "tags": [],
            "needs_background": "light"
          }
        }
      ]
    },
    {
      "cell_type": "code",
      "metadata": {
        "id": "QEVJlJedfqYE",
        "colab_type": "code",
        "outputId": "837b1868-712f-4287-978d-e1f7e9f1177a",
        "colab": {
          "base_uri": "https://localhost:8080/",
          "height": 476
        }
      },
      "source": [
        "X_train[\"pdays\"].value_counts()"
      ],
      "execution_count": 0,
      "outputs": [
        {
          "output_type": "execute_result",
          "data": {
            "text/plain": [
              "999    31743\n",
              "3        359\n",
              "6        318\n",
              "4         93\n",
              "2         51\n",
              "7         51\n",
              "9         50\n",
              "12        44\n",
              "10        43\n",
              "5         38\n",
              "13        30\n",
              "1         20\n",
              "11        19\n",
              "15        19\n",
              "8         15\n",
              "14        15\n",
              "0         12\n",
              "16         8\n",
              "18         7\n",
              "17         6\n",
              "19         3\n",
              "22         2\n",
              "25         1\n",
              "20         1\n",
              "21         1\n",
              "26         1\n",
              "Name: pdays, dtype: int64"
            ]
          },
          "metadata": {
            "tags": []
          },
          "execution_count": 35
        }
      ]
    },
    {
      "cell_type": "markdown",
      "metadata": {
        "id": "5oGS7S4ufqYY",
        "colab_type": "text"
      },
      "source": [
        "The \"pdays\" variable represent the number of days passed after last contact with the client before this campaign. The category \"999\" represents a client was not contacted prior to this campaign, as we could see, the majority of clients belongs to this category. I think it would be a good idea to discretize this particular variable. Let's look at the distribution excluding \"999\"."
      ]
    },
    {
      "cell_type": "code",
      "metadata": {
        "id": "NjeG7DoEfqYc",
        "colab_type": "code",
        "outputId": "23163abe-3683-4961-bee9-9c89e2d436cc",
        "colab": {
          "base_uri": "https://localhost:8080/",
          "height": 265
        }
      },
      "source": [
        "X_train[X_train[\"pdays\"] != 999].pdays.plot.hist(bins=30);"
      ],
      "execution_count": 0,
      "outputs": [
        {
          "output_type": "display_data",
          "data": {
            "image/png": "[encoded data removed]",
            "text/plain": [
              "<Figure size 432x288 with 1 Axes>"
            ]
          },
          "metadata": {
            "tags": [],
            "needs_background": "light"
          }
        }
      ]
    },
    {
      "cell_type": "markdown",
      "metadata": {
        "id": "BBTjosnJ920-",
        "colab_type": "text"
      },
      "source": [
        "Let's see if subscription rate differs for this subset of \"pdays\" "
      ]
    },
    {
      "cell_type": "code",
      "metadata": {
        "id": "sqIlrhJR-CLD",
        "colab_type": "code",
        "outputId": "ac437bed-e7d7-4c32-b0f9-1c1ce78446a6",
        "colab": {
          "base_uri": "https://localhost:8080/",
          "height": 285
        }
      },
      "source": [
        "subset_pdays = X_train[X_train[\"pdays\"] != 999].pdays\n",
        "temp_data = pd.concat([y_train,subset_pdays],axis=1)\n",
        "\n",
        "ax = sns.boxplot(x=\"y\", y=\"pdays\", data=temp_data);"
      ],
      "execution_count": 0,
      "outputs": [
        {
          "output_type": "display_data",
          "data": {
            "image/png": "[encoded data removed]",
            "text/plain": [
              "<Figure size 432x288 with 1 Axes>"
            ]
          },
          "metadata": {
            "tags": []
          }
        }
      ]
    },
    {
      "cell_type": "markdown",
      "metadata": {
        "id": "dJ3glIGufqY3",
        "colab_type": "text"
      },
      "source": [
        "\"pdays\" doesnt seem to differ much across y. In view of the small sample in this subset, I think we could discretize \"pdays\" into \"Not Applicable\" and \"Applicable\", i.e. old clients and new clients. In fact, this info could have already been captured by previous campaign outcome - \"poutcome\". Let's take a look at their interactions."
      ]
    },
    {
      "cell_type": "code",
      "metadata": {
        "id": "tNFmB3UhDMtW",
        "colab_type": "code",
        "outputId": "c577cd38-1214-4b81-8d45-a9af5558648a",
        "colab": {
          "base_uri": "https://localhost:8080/",
          "height": 142
        }
      },
      "source": [
        "cut_labels = [\"old_client\", \"new_client\"]\n",
        "cut_bins = [0,999,float(\"inf\")]\n",
        "client_old_new  = pd.cut(X_train[\"pdays\"], bins = cut_bins, labels = cut_labels, right = False)\n",
        "pd.crosstab(client_old_new, X_train[\"poutcome\"])"
      ],
      "execution_count": 0,
      "outputs": [
        {
          "output_type": "execute_result",
          "data": {
            "text/html": [
              "<div>\n",
              "<style scoped>\n",
              "    .dataframe tbody tr th:only-of-type {\n",
              "        vertical-align: middle;\n",
              "    }\n",
              "\n",
              "    .dataframe tbody tr th {\n",
              "        vertical-align: top;\n",
              "    }\n",
              "\n",
              "    .dataframe thead th {\n",
              "        text-align: right;\n",
              "    }\n",
              "</style>\n",
              "<table border=\"1\" class=\"dataframe\">\n",
              "  <thead>\n",
              "    <tr style=\"text-align: right;\">\n",
              "      <th>poutcome</th>\n",
              "      <th>failure</th>\n",
              "      <th>nonexistent</th>\n",
              "      <th>success</th>\n",
              "    </tr>\n",
              "    <tr>\n",
              "      <th>pdays</th>\n",
              "      <th></th>\n",
              "      <th></th>\n",
              "      <th></th>\n",
              "    </tr>\n",
              "  </thead>\n",
              "  <tbody>\n",
              "    <tr>\n",
              "      <th>old_client</th>\n",
              "      <td>118</td>\n",
              "      <td>0</td>\n",
              "      <td>1089</td>\n",
              "    </tr>\n",
              "    <tr>\n",
              "      <th>new_client</th>\n",
              "      <td>3282</td>\n",
              "      <td>28461</td>\n",
              "      <td>0</td>\n",
              "    </tr>\n",
              "  </tbody>\n",
              "</table>\n",
              "</div>"
            ],
            "text/plain": [
              "poutcome    failure  nonexistent  success\n",
              "pdays                                    \n",
              "old_client      118            0     1089\n",
              "new_client     3282        28461        0"
            ]
          },
          "metadata": {
            "tags": []
          },
          "execution_count": 9
        }
      ]
    },
    {
      "cell_type": "markdown",
      "metadata": {
        "id": "ODBodYPeqHv5",
        "colab_type": "text"
      },
      "source": [
        "Our guess is true- the info of old or new client is redundant when we have poutcome. Let's remove \"pdays\" from out data."
      ]
    },
    {
      "cell_type": "code",
      "metadata": {
        "id": "d9I0wrh-FRFj",
        "colab_type": "code",
        "colab": {}
      },
      "source": [
        "X_train.drop(\"pdays\", axis=1, inplace = True)\n",
        "X_test.drop(\"pdays\", axis=1, inplace = True)"
      ],
      "execution_count": 0,
      "outputs": []
    },
    {
      "cell_type": "code",
      "metadata": {
        "id": "P077rcdufqZ5",
        "colab_type": "code",
        "outputId": "e39c77f0-2349-4c4a-d919-d36603a742de",
        "colab": {
          "base_uri": "https://localhost:8080/",
          "height": 573
        }
      },
      "source": [
        "temp_data = pd.concat([X_train, y_train],axis=1)\n",
        "plt.figure(figsize=(10,6))\n",
        "\n",
        "# Scatter with positive examples\n",
        "plt.scatter(temp_data.duration[temp_data.y==\"yes\"],\n",
        "           temp_data.y[temp_data.y==\"yes\"],\n",
        "           c=\"purple\",\n",
        "          s=100)\n",
        "\n",
        "# Scatter with negative examples\n",
        "plt.scatter(temp_data.duration[temp_data.y==\"no\"],\n",
        "           temp_data.y[temp_data.y==\"no\"],\n",
        "           c=\"yellow\",\n",
        "           s=100)\n",
        "\n",
        "# Add some helpful info\n",
        "plt.title(\"Subscription vs Duration of Last Contact\")\n",
        "plt.xlabel(\"Duration of Last Contact\"),\n",
        "plt.ylabel(\"Subscription\"),\n",
        "plt.xlim([-0.5,5000]);"
      ],
      "execution_count": 0,
      "outputs": [
        {
          "output_type": "display_data",
          "data": {
            "image/png": "[encoded data removed]",
            "text/plain": [
              "<Figure size 1000x600 with 1 Axes>"
            ]
          },
          "metadata": {
            "tags": []
          }
        }
      ]
    },
    {
      "cell_type": "markdown",
      "metadata": {
        "id": "dKnJtZrlfqaL",
        "colab_type": "text"
      },
      "source": [
        "In addition to the fact that \"duration\" is halfly deterministic (if duration = 0, y=0) and is not available until the outcome is known (the time we recorded duration of last call, we know if the client would subscribe or not), we also found that even in retrospect, there seems no correlation between length of last call and whether the client subscribe or not. So, we could safely discard this variable as well."
      ]
    },
    {
      "cell_type": "code",
      "metadata": {
        "id": "jQBFUEvFfqaP",
        "colab_type": "code",
        "colab": {}
      },
      "source": [
        "X_train.drop([\"duration\"], axis = 1, inplace = True)\n",
        "X_test.drop([\"duration\"], axis = 1, inplace = True)"
      ],
      "execution_count": 0,
      "outputs": []
    },
    {
      "cell_type": "code",
      "metadata": {
        "id": "GIngE1UGhlgr",
        "colab_type": "code",
        "outputId": "93d18d23-4f9e-46fe-94eb-619ad37ca4fa",
        "colab": {
          "base_uri": "https://localhost:8080/",
          "height": 258
        }
      },
      "source": [
        "X_train.head()"
      ],
      "execution_count": 0,
      "outputs": [
        {
          "output_type": "execute_result",
          "data": {
            "text/html": [
              "<div>\n",
              "<style scoped>\n",
              "    .dataframe tbody tr th:only-of-type {\n",
              "        vertical-align: middle;\n",
              "    }\n",
              "\n",
              "    .dataframe tbody tr th {\n",
              "        vertical-align: top;\n",
              "    }\n",
              "\n",
              "    .dataframe thead th {\n",
              "        text-align: right;\n",
              "    }\n",
              "</style>\n",
              "<table border=\"1\" class=\"dataframe\">\n",
              "  <thead>\n",
              "    <tr style=\"text-align: right;\">\n",
              "      <th></th>\n",
              "      <th>age</th>\n",
              "      <th>job</th>\n",
              "      <th>marital</th>\n",
              "      <th>education</th>\n",
              "      <th>default</th>\n",
              "      <th>housing</th>\n",
              "      <th>loan</th>\n",
              "      <th>contact</th>\n",
              "      <th>month</th>\n",
              "      <th>day_of_week</th>\n",
              "      <th>duration</th>\n",
              "      <th>campaign</th>\n",
              "      <th>previous</th>\n",
              "      <th>poutcome</th>\n",
              "      <th>emp.var.rate</th>\n",
              "      <th>cons.price.idx</th>\n",
              "      <th>cons.conf.idx</th>\n",
              "      <th>euribor3m</th>\n",
              "      <th>nr.employed</th>\n",
              "    </tr>\n",
              "  </thead>\n",
              "  <tbody>\n",
              "    <tr>\n",
              "      <th>6125</th>\n",
              "      <td>47</td>\n",
              "      <td>technician</td>\n",
              "      <td>married</td>\n",
              "      <td>professional.course</td>\n",
              "      <td>unknown</td>\n",
              "      <td>yes</td>\n",
              "      <td>no</td>\n",
              "      <td>telephone</td>\n",
              "      <td>may</td>\n",
              "      <td>tue</td>\n",
              "      <td>272</td>\n",
              "      <td>3</td>\n",
              "      <td>0</td>\n",
              "      <td>nonexistent</td>\n",
              "      <td>1.1</td>\n",
              "      <td>93.994</td>\n",
              "      <td>-36.4</td>\n",
              "      <td>4.857</td>\n",
              "      <td>5191.0</td>\n",
              "    </tr>\n",
              "    <tr>\n",
              "      <th>7608</th>\n",
              "      <td>41</td>\n",
              "      <td>blue-collar</td>\n",
              "      <td>married</td>\n",
              "      <td>basic.4y</td>\n",
              "      <td>no</td>\n",
              "      <td>no</td>\n",
              "      <td>no</td>\n",
              "      <td>telephone</td>\n",
              "      <td>may</td>\n",
              "      <td>fri</td>\n",
              "      <td>512</td>\n",
              "      <td>2</td>\n",
              "      <td>0</td>\n",
              "      <td>nonexistent</td>\n",
              "      <td>1.1</td>\n",
              "      <td>93.994</td>\n",
              "      <td>-36.4</td>\n",
              "      <td>4.864</td>\n",
              "      <td>5191.0</td>\n",
              "    </tr>\n",
              "    <tr>\n",
              "      <th>14291</th>\n",
              "      <td>42</td>\n",
              "      <td>technician</td>\n",
              "      <td>married</td>\n",
              "      <td>professional.course</td>\n",
              "      <td>unknown</td>\n",
              "      <td>yes</td>\n",
              "      <td>no</td>\n",
              "      <td>cellular</td>\n",
              "      <td>jul</td>\n",
              "      <td>mon</td>\n",
              "      <td>77</td>\n",
              "      <td>3</td>\n",
              "      <td>0</td>\n",
              "      <td>nonexistent</td>\n",
              "      <td>1.4</td>\n",
              "      <td>93.918</td>\n",
              "      <td>-42.7</td>\n",
              "      <td>4.962</td>\n",
              "      <td>5228.1</td>\n",
              "    </tr>\n",
              "    <tr>\n",
              "      <th>29172</th>\n",
              "      <td>32</td>\n",
              "      <td>blue-collar</td>\n",
              "      <td>single</td>\n",
              "      <td>high.school</td>\n",
              "      <td>no</td>\n",
              "      <td>yes</td>\n",
              "      <td>no</td>\n",
              "      <td>cellular</td>\n",
              "      <td>apr</td>\n",
              "      <td>fri</td>\n",
              "      <td>1080</td>\n",
              "      <td>1</td>\n",
              "      <td>0</td>\n",
              "      <td>nonexistent</td>\n",
              "      <td>-1.8</td>\n",
              "      <td>93.075</td>\n",
              "      <td>-47.1</td>\n",
              "      <td>1.405</td>\n",
              "      <td>5099.1</td>\n",
              "    </tr>\n",
              "    <tr>\n",
              "      <th>21909</th>\n",
              "      <td>36</td>\n",
              "      <td>technician</td>\n",
              "      <td>single</td>\n",
              "      <td>university.degree</td>\n",
              "      <td>no</td>\n",
              "      <td>yes</td>\n",
              "      <td>no</td>\n",
              "      <td>cellular</td>\n",
              "      <td>aug</td>\n",
              "      <td>wed</td>\n",
              "      <td>123</td>\n",
              "      <td>1</td>\n",
              "      <td>0</td>\n",
              "      <td>nonexistent</td>\n",
              "      <td>1.4</td>\n",
              "      <td>93.444</td>\n",
              "      <td>-36.1</td>\n",
              "      <td>4.964</td>\n",
              "      <td>5228.1</td>\n",
              "    </tr>\n",
              "  </tbody>\n",
              "</table>\n",
              "</div>"
            ],
            "text/plain": [
              "       age          job  marital  ... cons.conf.idx euribor3m nr.employed\n",
              "6125    47   technician  married  ...         -36.4     4.857      5191.0\n",
              "7608    41  blue-collar  married  ...         -36.4     4.864      5191.0\n",
              "14291   42   technician  married  ...         -42.7     4.962      5228.1\n",
              "29172   32  blue-collar   single  ...         -47.1     1.405      5099.1\n",
              "21909   36   technician   single  ...         -36.1     4.964      5228.1\n",
              "\n",
              "[5 rows x 19 columns]"
            ]
          },
          "metadata": {
            "tags": []
          },
          "execution_count": 11
        }
      ]
    },
    {
      "cell_type": "code",
      "metadata": {
        "id": "ROInEImyfqan",
        "colab_type": "code",
        "outputId": "e924c9f6-3ff2-4cc5-9e1a-6bf3a697b42a",
        "colab": {
          "base_uri": "https://localhost:8080/",
          "height": 1000
        }
      },
      "source": [
        "X_train.drop(['nr.employed', \"pdays\"],axis=1).plot.hist(subplots=True, figsize=(10,25), bins=30);"
      ],
      "execution_count": 0,
      "outputs": [
        {
          "output_type": "display_data",
          "data": {
            "image/png": "[encoded data removed]",
            "text/plain": [
              "<Figure size 720x1800 with 7 Axes>"
            ]
          },
          "metadata": {
            "tags": [],
            "needs_background": "light"
          }
        }
      ]
    },
    {
      "cell_type": "markdown",
      "metadata": {
        "id": "v_1LsSpGT1B3",
        "colab_type": "text"
      },
      "source": [
        "Other columns are still have very diverse range and apart from \"age\", features seems not very clearly normally distributed. We might consider a random forest model which doesnt rely on rescaling and normality first. "
      ]
    },
    {
      "cell_type": "markdown",
      "metadata": {
        "id": "Qse5OXCrfqa4",
        "colab_type": "text"
      },
      "source": [
        "Let's see if number of contacts in this campaign is correlated with that outside this campaign previously"
      ]
    },
    {
      "cell_type": "code",
      "metadata": {
        "scrolled": true,
        "id": "4UcwpfrHfqa7",
        "colab_type": "code",
        "outputId": "cc62e6bd-028d-460b-bddd-325c3d0ad95f",
        "colab": {
          "base_uri": "https://localhost:8080/",
          "height": 458
        }
      },
      "source": [
        "y_train_ind = y_train.replace((\"yes\",\"no\"),(1,0))\n",
        "temp_data = pd.concat([X_train, y_train_ind],axis=1)\n",
        "plt.figure(figsize=(10,7))\n",
        "\n",
        "# Scatter with positive examples\n",
        "plt.scatter(temp_data.previous[temp_data.y==1],\n",
        "           temp_data.campaign[temp_data.y==1],\n",
        "           c=\"purple\",\n",
        "            s=120,\n",
        "            alpha=0.5,\n",
        "            marker=\"x\");\n",
        "\n",
        "# Scatter with negative examples\n",
        "plt.scatter(temp_data.previous[temp_data.y==0],\n",
        "           temp_data.campaign[temp_data.y==0],\n",
        "           c=\"yellow\",\n",
        "           s=40,\n",
        "            alpha=0.5,\n",
        "            marker=\"o\");\n",
        "\n",
        "# Add some helpful info\n",
        "plt.title(\"Subscription in function of Previous and Campaign No. of Contact\")\n",
        "plt.xlabel(\"Previous No of Contact\"),\n",
        "plt.ylabel(\"Campaign No of Contact\"),\n",
        "plt.xlim([-0.5,8]),\n",
        "plt.ylim([-0.5,60])\n",
        "plt.legend([\"Yes\",\"No\"]);"
      ],
      "execution_count": 0,
      "outputs": [
        {
          "output_type": "display_data",
          "data": {
            "image/png": "[encoded data removed]",
            "text/plain": [
              "<Figure size 720x504 with 1 Axes>"
            ]
          },
          "metadata": {
            "tags": [],
            "needs_background": "light"
          }
        }
      ]
    },
    {
      "cell_type": "code",
      "metadata": {
        "id": "Un217Z8MfqbL",
        "colab_type": "code",
        "outputId": "9a8703ef-f9a5-4eec-c87c-0613a07869fb",
        "colab": {
          "base_uri": "https://localhost:8080/",
          "height": 51
        }
      },
      "source": [
        "from numpy import cov\n",
        "cov(X_train.previous, X_train.campaign)"
      ],
      "execution_count": 0,
      "outputs": [
        {
          "output_type": "execute_result",
          "data": {
            "text/plain": [
              "array([[ 0.2466002 , -0.11028785],\n",
              "       [-0.11028785,  7.69952446]])"
            ]
          },
          "metadata": {
            "tags": []
          },
          "execution_count": 125
        }
      ]
    },
    {
      "cell_type": "code",
      "metadata": {
        "id": "jadCEdXzfqbb",
        "colab_type": "code",
        "outputId": "03d76291-8495-470f-beeb-27ed94bfa626",
        "colab": {
          "base_uri": "https://localhost:8080/",
          "height": 34
        }
      },
      "source": [
        "corr =  -0.11028785/(np.sqrt(0.2466002)*np.sqrt(7.69952446))\n",
        "corr"
      ],
      "execution_count": 0,
      "outputs": [
        {
          "output_type": "execute_result",
          "data": {
            "text/plain": [
              "-0.08003851212682017"
            ]
          },
          "metadata": {
            "tags": []
          },
          "execution_count": 126
        }
      ]
    },
    {
      "cell_type": "markdown",
      "metadata": {
        "id": "no-OdT_zfqbq",
        "colab_type": "text"
      },
      "source": [
        "From the figure it looks like campaign and previous are highly negatively correlated but the pearson correlation statistic proves that untrue"
      ]
    },
    {
      "cell_type": "markdown",
      "metadata": {
        "id": "r3Kc2oKVfqbu",
        "colab_type": "text"
      },
      "source": [
        "Even though our staff called a lot more, especially to new customers, in this campaign, any efforts beyond 20 calls seems doesnt drive subscriptions much"
      ]
    },
    {
      "cell_type": "markdown",
      "metadata": {
        "id": "oALWNMFGfqcH",
        "colab_type": "text"
      },
      "source": [
        "Let's see how the 4 socioeconomic indicators correlate with subscription:"
      ]
    },
    {
      "cell_type": "code",
      "metadata": {
        "id": "c4vb84CKYgDG",
        "colab_type": "code",
        "outputId": "ba414c71-8c92-4180-82fe-46b89c59243c",
        "colab": {
          "base_uri": "https://localhost:8080/",
          "height": 279
        }
      },
      "source": [
        "temp_data = pd.concat([y_train,X_train[\"emp.var.rate\"]],axis=1)\n",
        "ax = sns.boxplot(x=\"y\", y=\"emp.var.rate\", data=temp_data)\n",
        "ax.set(ylabel=\"Employment variation Index\",\n",
        "       xlabel=\"Subscription status\");"
      ],
      "execution_count": 0,
      "outputs": [
        {
          "output_type": "display_data",
          "data": {
            "image/png": "[encoded data removed]",
            "text/plain": [
              "<Figure size 432x288 with 1 Axes>"
            ]
          },
          "metadata": {
            "tags": [],
            "needs_background": "light"
          }
        }
      ]
    },
    {
      "cell_type": "code",
      "metadata": {
        "id": "90hWK3G7Y4LJ",
        "colab_type": "code",
        "outputId": "7c8f042c-02f4-4c0e-e7c7-789fe7244c29",
        "colab": {
          "base_uri": "https://localhost:8080/",
          "height": 265
        }
      },
      "source": [
        "temp_data = pd.concat([y_train,X_train[\"cons.price.idx\"]],axis=1)\n",
        "ax = sns.boxplot(x=\"y\", y=\"cons.price.idx\", data=temp_data)\n",
        "ax.set(\n",
        "       ylabel=\"Consumer Price Index\",\n",
        "       xlabel=\"\");"
      ],
      "execution_count": 0,
      "outputs": [
        {
          "output_type": "display_data",
          "data": {
            "image/png": "[encoded data removed]",
            "text/plain": [
              "<Figure size 432x288 with 1 Axes>"
            ]
          },
          "metadata": {
            "tags": [],
            "needs_background": "light"
          }
        }
      ]
    },
    {
      "cell_type": "code",
      "metadata": {
        "id": "khZfXXjxZG-v",
        "colab_type": "code",
        "outputId": "72cb6c3b-add6-470e-d33c-ba282e0f7ec9",
        "colab": {
          "base_uri": "https://localhost:8080/",
          "height": 279
        }
      },
      "source": [
        "temp_data = pd.concat([y_train,X_train[\"cons.conf.idx\"]],axis=1)\n",
        "ax2 = sns.boxplot(x=\"y\", y=\"cons.conf.idx\", data=temp_data)\n",
        "\n",
        "ax2.set(\n",
        "       ylabel=\"Consumer Confidence Index\",\n",
        "       xlabel=\"Subscription status\");"
      ],
      "execution_count": 0,
      "outputs": [
        {
          "output_type": "display_data",
          "data": {
            "image/png": "[encoded data removed]",
            "text/plain": [
              "<Figure size 432x288 with 1 Axes>"
            ]
          },
          "metadata": {
            "tags": [],
            "needs_background": "light"
          }
        }
      ]
    },
    {
      "cell_type": "code",
      "metadata": {
        "id": "qnDWlGO1ZVzF",
        "colab_type": "code",
        "outputId": "d81030ed-fe08-4cc5-8bfb-b0b2ec3e250f",
        "colab": {
          "base_uri": "https://localhost:8080/",
          "height": 265
        }
      },
      "source": [
        "temp_data = pd.concat([y_train,X_train[\"euribor3m\"]],axis=1)\n",
        "ax = sns.boxplot(x=\"y\", y=\"euribor3m\", data=temp_data);\n",
        "ax.set(\n",
        "       ylabel=\"Interest Rate\",\n",
        "       xlabel=\"\");"
      ],
      "execution_count": 0,
      "outputs": [
        {
          "output_type": "display_data",
          "data": {
            "image/png": "[encoded data removed]",
            "text/plain": [
              "<Figure size 432x288 with 1 Axes>"
            ]
          },
          "metadata": {
            "tags": [],
            "needs_background": "light"
          }
        }
      ]
    },
    {
      "cell_type": "markdown",
      "metadata": {
        "id": "eCL2XoEa3MoI",
        "colab_type": "text"
      },
      "source": [
        "The predictive power of these 4 indicators seems quite limited."
      ]
    },
    {
      "cell_type": "markdown",
      "metadata": {
        "id": "gaogmEpz0Qqd",
        "colab_type": "text"
      },
      "source": [
        "Let's take an overview of the correlations between all continuous variables, as well as y"
      ]
    },
    {
      "cell_type": "code",
      "metadata": {
        "id": "Gacbwjg4c_ye",
        "colab_type": "code",
        "outputId": "f328c04d-9fbc-4676-bc3d-6d56a8b4604e",
        "colab": {
          "base_uri": "https://localhost:8080/",
          "height": 598
        }
      },
      "source": [
        "y_train_ind = y_train.replace((\"no\",\"yes\"),(0,1))\n",
        "temp_data= pd.concat([X_train,y_train_ind], axis=1)\n",
        "corr_matrix = temp_data.corr()\n",
        "fig, ax = plt.subplots(figsize=(15,10))\n",
        "ax = sns.heatmap(corr_matrix,\n",
        "                 annot = True,\n",
        "                 linewidths = 0.5,\n",
        "                 fmt = '.2f',\n",
        "                 cmap = 'YlGnBu');\n"
      ],
      "execution_count": 34,
      "outputs": [
        {
          "output_type": "display_data",
          "data": {
            "image/png": "[encoded data removed]",
            "text/plain": [
              "<Figure size 1080x720 with 2 Axes>"
            ]
          },
          "metadata": {
            "tags": []
          }
        }
      ]
    },
    {
      "cell_type": "markdown",
      "metadata": {
        "id": "zWl4y59--Hid",
        "colab_type": "text"
      },
      "source": [
        "We could infer from the matrix that the 4 socioeconomic indicators are highly correlated, we would need to address the issue of multicollinearity if we want to use a linear model. \n",
        "\n",
        "We could infer from the matrix that age, campaign and consumer confidence index would have very low predictive power. Let us drop \"age\" and do something about campaign and cons.price.idx."
      ]
    },
    {
      "cell_type": "code",
      "metadata": {
        "id": "5y_0Ftel2BuD",
        "colab_type": "code",
        "colab": {
          "base_uri": "https://localhost:8080/",
          "height": 102
        },
        "outputId": "b842b64c-8b98-47f4-aaf5-d59fce5f7f59"
      },
      "source": [
        "X_train.drop([\"age\"], axis=1, inplace = True)"
      ],
      "execution_count": 35,
      "outputs": [
        {
          "output_type": "stream",
          "text": [
            "/usr/local/lib/python3.6/dist-packages/pandas/core/frame.py:3997: SettingWithCopyWarning: \n",
            "A value is trying to be set on a copy of a slice from a DataFrame\n",
            "\n",
            "See the caveats in the documentation: https://pandas.pydata.org/pandas-docs/stable/user_guide/indexing.html#returning-a-view-versus-a-copy\n",
            "  errors=errors,\n"
          ],
          "name": "stderr"
        }
      ]
    },
    {
      "cell_type": "code",
      "metadata": {
        "id": "MpaoWwgTCrD_",
        "colab_type": "code",
        "colab": {
          "base_uri": "https://localhost:8080/",
          "height": 102
        },
        "outputId": "60718dc0-9172-4c8d-8261-2b29d49aedc0"
      },
      "source": [
        "X_test.drop([\"age\"], axis=1, inplace = True)"
      ],
      "execution_count": 36,
      "outputs": [
        {
          "output_type": "stream",
          "text": [
            "/usr/local/lib/python3.6/dist-packages/pandas/core/frame.py:3997: SettingWithCopyWarning: \n",
            "A value is trying to be set on a copy of a slice from a DataFrame\n",
            "\n",
            "See the caveats in the documentation: https://pandas.pydata.org/pandas-docs/stable/user_guide/indexing.html#returning-a-view-versus-a-copy\n",
            "  errors=errors,\n"
          ],
          "name": "stderr"
        }
      ]
    },
    {
      "cell_type": "markdown",
      "metadata": {
        "id": "RaclPWQHE0ti",
        "colab_type": "text"
      },
      "source": [
        "### **Feature Engineering**"
      ]
    },
    {
      "cell_type": "markdown",
      "metadata": {
        "id": "TvuFJNeD0EUg",
        "colab_type": "text"
      },
      "source": [
        "Let us try incorporate interest rate into consumer confidence index by creating a new adjusted consumer confidence index variable, which is the product of \"cons.conf.idex\" and \"euribor3m\". Note that the magnitude of interest rate is relatively small than the consumer confidence index, so our transformed new variable in fact represent more information from the original consumer index variable than the interest rate adjustment. "
      ]
    },
    {
      "cell_type": "code",
      "metadata": {
        "id": "6NH08_uRcaB1",
        "colab_type": "code",
        "colab": {}
      },
      "source": [
        "cons_conf_idx_interest_rate_adjusted = X_train[\"cons.conf.idx\"]*X_train[\"euribor3m\"]\n"
      ],
      "execution_count": 0,
      "outputs": []
    },
    {
      "cell_type": "code",
      "metadata": {
        "id": "xryGTUp0v-jW",
        "colab_type": "code",
        "outputId": "9fc83a42-ef6e-4a99-948a-e4e23303c54e",
        "colab": {
          "base_uri": "https://localhost:8080/",
          "height": 34
        }
      },
      "source": [
        "from numpy import cov\n",
        "np.cov(cons_conf_idx_interest_rate_adjusted , y_train_ind)[1][0]/(np.std(cons_conf_idx_interest_rate_adjusted )*np.std(y_train_ind))"
      ],
      "execution_count": 0,
      "outputs": [
        {
          "output_type": "execute_result",
          "data": {
            "text/plain": [
              "0.3129331519098833"
            ]
          },
          "metadata": {
            "tags": []
          },
          "execution_count": 31
        }
      ]
    },
    {
      "cell_type": "markdown",
      "metadata": {
        "id": "yu2UjPIF1Z35",
        "colab_type": "text"
      },
      "source": [
        "Now this new variable has much more predictive power than the original consumer confidence indicator. \n",
        "In fact, we could make the same adjustment for the consumer price index."
      ]
    },
    {
      "cell_type": "code",
      "metadata": {
        "id": "ugmdBabA1tgu",
        "colab_type": "code",
        "outputId": "0b01e6fb-a9e3-466c-8994-a5130d1204e2",
        "colab": {
          "base_uri": "https://localhost:8080/",
          "height": 34
        }
      },
      "source": [
        "cons_price_idx_interest_rate_adjusted = X_train[\"cons.price.idx\"]*X_train[\"euribor3m\"]\n",
        "np.cov(cons_price_idx_interest_rate_adjusted , y_train_ind)[1][0]/(np.std(cons_price_idx_interest_rate_adjusted )*np.std(y_train_ind))"
      ],
      "execution_count": 38,
      "outputs": [
        {
          "output_type": "execute_result",
          "data": {
            "text/plain": [
              "-0.30895434625463003"
            ]
          },
          "metadata": {
            "tags": []
          },
          "execution_count": 38
        }
      ]
    },
    {
      "cell_type": "markdown",
      "metadata": {
        "id": "5LQJbIFH2LET",
        "colab_type": "text"
      },
      "source": [
        "This also scales up the correlation of consumer price index with subscription rate!"
      ]
    },
    {
      "cell_type": "markdown",
      "metadata": {
        "id": "0aI6pJOt2Vfx",
        "colab_type": "text"
      },
      "source": [
        "We shall replace the original consumer index indicators with these 2 adjusted ones."
      ]
    },
    {
      "cell_type": "code",
      "metadata": {
        "id": "1dh8At312Enz",
        "colab_type": "code",
        "colab": {}
      },
      "source": [
        "X_train[\"adj.cons.conf.idx\"] = cons_conf_idx_interest_rate_adjusted\n",
        "X_train[\"adj.cons.price.idx\"] = cons_price_idx_interest_rate_adjusted"
      ],
      "execution_count": 0,
      "outputs": []
    },
    {
      "cell_type": "code",
      "metadata": {
        "id": "FxbY72R12r4R",
        "colab_type": "code",
        "colab": {}
      },
      "source": [
        "X_train.drop(\"cons.conf.idx\", axis=1, inplace=True)\n",
        "X_train.drop(\"cons.price.idx\", axis=1, inplace=True)"
      ],
      "execution_count": 0,
      "outputs": []
    },
    {
      "cell_type": "code",
      "metadata": {
        "id": "tW4zjXh927Ay",
        "colab_type": "code",
        "colab": {}
      },
      "source": [
        "X_test[\"adj.cons.conf.idx\"] = X_test[\"cons.conf.idx\"]*X_test[\"euribor3m\"]\n",
        "X_test[\"adj.cons.price.idx\"] = X_test[\"cons.price.idx\"]*X_test[\"euribor3m\"]"
      ],
      "execution_count": 0,
      "outputs": []
    },
    {
      "cell_type": "code",
      "metadata": {
        "id": "KcdhmmDB3RHh",
        "colab_type": "code",
        "colab": {}
      },
      "source": [
        "X_test.drop(\"cons.conf.idx\", axis=1, inplace=True)\n",
        "X_test.drop(\"cons.price.idx\", axis=1, inplace=True)"
      ],
      "execution_count": 0,
      "outputs": []
    },
    {
      "cell_type": "markdown",
      "metadata": {
        "id": "khTlAGDv5kOM",
        "colab_type": "text"
      },
      "source": [
        "Can we do something to improve \"campaign\", which is the number of contacts we made in this campaign. \n",
        "From the figure, we know that past success rate has a lot to do with campaign outcome, so what about we incorporate this info into \"campaign\"?\n",
        "For example, we may rescale \"campaign\" by a weight variable which depends on previous outcome.\n"
      ]
    },
    {
      "cell_type": "code",
      "metadata": {
        "id": "wLospc8vKn1f",
        "colab_type": "code",
        "outputId": "18c48c37-a226-4810-a9b3-d315a13eaf68",
        "colab": {
          "base_uri": "https://localhost:8080/",
          "height": 404
        }
      },
      "source": [
        "pd.crosstab(X_train.poutcome, y_train).plot(kind=\"bar\",\n",
        "                                   figsize=(10,6),\n",
        "                                   color=[\"lightblue\",\"salmon\"])\n",
        "plt.title(\"Subscription by Previous Campaign Outcome\")\n",
        "plt.xlabel(\"Previous Campaign Outcome\")\n",
        "plt.ylabel(\"Number of Subscribed and Not subscribed\")\n",
        "plt.legend([\"No\",\"Yes\"])\n",
        "plt.xticks(rotation = 0);"
      ],
      "execution_count": 0,
      "outputs": [
        {
          "output_type": "display_data",
          "data": {
            "image/png": "[encoded data removed]",
            "text/plain": [
              "<Figure size 720x432 with 1 Axes>"
            ]
          },
          "metadata": {
            "tags": [],
            "needs_background": "light"
          }
        }
      ]
    },
    {
      "cell_type": "code",
      "metadata": {
        "id": "HqBuVKe7KS21",
        "colab_type": "code",
        "outputId": "3615eef3-51c1-48a6-82f9-c8e61707c5f2",
        "colab": {
          "base_uri": "https://localhost:8080/",
          "height": 187
        }
      },
      "source": [
        "w_failure = [0.2,0.3,0.4,0.5,0.6]\n",
        "w_nonexistent = [0.05, 0.1, 0.15, 0.2]\n",
        "w_success = [4,5,6,7,8,9,10]\n",
        "for i in w_failure:\n",
        "  for j in w_nonexistent:\n",
        "    for k in w_success:\n",
        "        weight_campaign = X_train[\"poutcome\"].replace((\"failure\",\"nonexistent\",\"success\"),(i,j,k))\n",
        "        adj_campaign = X_train[\"campaign\"]*weight_campaign\n",
        "        corr = np.cov(adj_campaign , y_train_ind)[1][0]/(np.std(adj_campaign)*np.std(y_train_ind))\n",
        "        if (corr>0.248):\n",
        "           print(f\"for i,j,k = {i},{j},{k}, corr = {corr}\")"
      ],
      "execution_count": 0,
      "outputs": [
        {
          "output_type": "stream",
          "text": [
            "for i,j,k = 0.2,0.05,10, corr = 0.24822308666258597\n",
            "for i,j,k = 0.3,0.05,9, corr = 0.24823647261396334\n",
            "for i,j,k = 0.3,0.05,10, corr = 0.24848246351184625\n",
            "for i,j,k = 0.4,0.05,8, corr = 0.24800694424497763\n",
            "for i,j,k = 0.4,0.05,9, corr = 0.2483709468880659\n",
            "for i,j,k = 0.4,0.05,10, corr = 0.24863885484707238\n",
            "for i,j,k = 0.5,0.05,9, corr = 0.24837861474266723\n",
            "for i,j,k = 0.5,0.05,10, corr = 0.24869234305403498\n",
            "for i,j,k = 0.6,0.05,9, corr = 0.24826034797760574\n",
            "for i,j,k = 0.6,0.05,10, corr = 0.24864339180772793\n"
          ],
          "name": "stdout"
        }
      ]
    },
    {
      "cell_type": "markdown",
      "metadata": {
        "id": "bNYsDWACL3bW",
        "colab_type": "text"
      },
      "source": [
        "A sensible choice of the weight is (0.5,0.05,10) for previous outcome = (failure, nonexistent, success). When we multiply number of contact in this campaign by this set of weight, depending on previous campaign outcome (0.05 for new clients), we could get a linear correlation coefficient of around 0.25 between the rescaled \"campaign\" and \"y\" - a significant increase from -0.06! Let us replace the original \"campaign\" with this one."
      ]
    },
    {
      "cell_type": "code",
      "metadata": {
        "id": "s-zLlMxrS9Nz",
        "colab_type": "code",
        "colab": {}
      },
      "source": [
        "weight_campaign = X_train[\"poutcome\"].replace((\"failure\",\"nonexistent\",\"success\"),(0.5,0.05,10))\n",
        "X_train[\"adj_campaign\"] = X_train[\"campaign\"]*weight_campaign\n",
        "X_train.drop(\"campaign\", axis=1, inplace=True)"
      ],
      "execution_count": 0,
      "outputs": []
    },
    {
      "cell_type": "code",
      "metadata": {
        "id": "oStF1S53TeXI",
        "colab_type": "code",
        "colab": {}
      },
      "source": [
        "weight_campaign = X_test[\"poutcome\"].replace((\"failure\",\"nonexistent\",\"success\"),(0.5,0.05,10))\n",
        "X_test[\"adj_campaign\"] = X_test[\"campaign\"]*weight_campaign\n",
        "X_test.drop(\"campaign\", axis=1, inplace=True)"
      ],
      "execution_count": 0,
      "outputs": []
    },
    {
      "cell_type": "code",
      "metadata": {
        "id": "xj38bx2bT2hc",
        "colab_type": "code",
        "outputId": "3c849ce9-a602-436a-94fe-7c88586cd4bb",
        "colab": {
          "base_uri": "https://localhost:8080/",
          "height": 596
        }
      },
      "source": [
        "temp_data= pd.concat([X_train,y_train_ind], axis=1)\n",
        "corr_matrix = temp_data.corr()\n",
        "fig, ax = plt.subplots(figsize=(15,10))\n",
        "ax = sns.heatmap(corr_matrix,\n",
        "                 annot = True,\n",
        "                 linewidths = 0.5,\n",
        "                 fmt = '.2f',\n",
        "                 cmap = 'PuBuGn');"
      ],
      "execution_count": 0,
      "outputs": [
        {
          "output_type": "display_data",
          "data": {
            "image/png": "[encoded data removed]",
            "text/plain": [
              "<Figure size 1080x720 with 2 Axes>"
            ]
          },
          "metadata": {
            "tags": [],
            "needs_background": "light"
          }
        }
      ]
    },
    {
      "cell_type": "markdown",
      "metadata": {
        "id": "18bHWgIHZhV6",
        "colab_type": "text"
      },
      "source": [
        "We can see that the adjusted features could potentially have more predictive power. However, we now have 3 pairs of features that are highly correlated.\n",
        "Since the information of \"euribor3m\" is already captured in adj.cons.price.idx and adj.cons.conf.idx, we can safely discard it from our data. The emp.var.rate has very high linear correlation with \"euribor3m\" even before we made any changes to the features. In this sense, it might be better to also discard it alongside \"euribor3m\""
      ]
    },
    {
      "cell_type": "code",
      "metadata": {
        "id": "Z_5n_47GZHcf",
        "colab_type": "code",
        "colab": {}
      },
      "source": [
        "X_test.drop([\"euribor3m\",\"emp.var.rate\"], axis=1, inplace=True)\n",
        "X_train.drop([\"euribor3m\",\"emp.var.rate\"], axis=1, inplace=True)\n"
      ],
      "execution_count": 0,
      "outputs": []
    },
    {
      "cell_type": "markdown",
      "metadata": {
        "id": "o9gHavCtbE8-",
        "colab_type": "text"
      },
      "source": [
        "Let's look at the categorical variables."
      ]
    },
    {
      "cell_type": "code",
      "metadata": {
        "id": "07yTOr3HLo6Q",
        "colab_type": "code",
        "outputId": "1e1d81dc-d908-4c2a-ac39-d7bafc2f6d0d",
        "colab": {
          "base_uri": "https://localhost:8080/",
          "height": 375
        }
      },
      "source": [
        "categorical = [\n",
        "  'job', 'marital', 'education', 'default', 'housing', 'loan', 'contact','month', 'day_of_week'\n",
        "]\n",
        "temp_data = pd.concat([X_train, y_train_ind], axis=1)\n",
        "\n",
        "fig, ax = plt.subplots(3, 3, figsize=(20, 10))\n",
        "fig.tight_layout(pad=11.0)\n",
        "fig.suptitle(\"Distribution of each categorical variable\", fontsize = 16)\n",
        "\n",
        "for variable, subplot in zip(categorical, ax.flatten()):\n",
        "    order = np.array(pd.crosstab(temp_data[variable], temp_data[\"y\"]).index)\n",
        "    sns.countplot(X_train[variable], ax=subplot, order = order)\n",
        "    for label in subplot.get_xticklabels():\n",
        "        label.set_rotation(90)\n",
        "\n"
      ],
      "execution_count": 0,
      "outputs": [
        {
          "output_type": "display_data",
          "data": {
            "image/png": "[encoded data removed]",
            "text/plain": [
              "<Figure size 1440x720 with 9 Axes>"
            ]
          },
          "metadata": {
            "tags": [],
            "needs_background": "light"
          }
        }
      ]
    },
    {
      "cell_type": "code",
      "metadata": {
        "id": "_pVdD7xYRID1",
        "colab_type": "code",
        "outputId": "0df3fde6-c2a1-4082-c181-a5c251e5d8f4",
        "colab": {
          "base_uri": "https://localhost:8080/",
          "height": 375
        }
      },
      "source": [
        "\n",
        "fig, ax = plt.subplots(3, 3, figsize=(20, 10))\n",
        "fig.tight_layout(pad=11.0)\n",
        "fig.suptitle(\"Percent subscribed by categories\", fontsize = 16)\n",
        "\n",
        "for variable, subplot, index in zip(categorical, ax.flatten(),range(9)):\n",
        "    x = np.array(pd.crosstab(temp_data[variable], temp_data[\"y\"]).index)\n",
        "    y1 = np.array(pd.crosstab(temp_data[variable], temp_data[\"y\"]).iloc[:, 0])\n",
        "    y2 = np.array(pd.crosstab(temp_data[variable], temp_data[\"y\"]).iloc[:, 1])\n",
        "    total = np.add(y1,y2)\n",
        "    p1 = np.divide(y1,total)*100\n",
        "    p2 = np.divide(y2,total)*100\n",
        "    #ax[1][0].bar\n",
        "    ax.flat[index].bar(x, p1, label='No', color='lightblue')\n",
        "    # stack y2 on top of y1.\n",
        "    ax.flat[index].bar(x, p2, bottom=p1, label='Yes', color='salmon')\n",
        "    for label in subplot.get_xticklabels():\n",
        "        label.set_rotation(90)\n"
      ],
      "execution_count": 0,
      "outputs": [
        {
          "output_type": "display_data",
          "data": {
            "image/png": "[encoded data removed]",
            "text/plain": [
              "<Figure size 1440x720 with 9 Axes>"
            ]
          },
          "metadata": {
            "tags": [],
            "needs_background": "light"
          }
        }
      ]
    },
    {
      "cell_type": "markdown",
      "metadata": {
        "id": "i-JVDgNcuJ1m",
        "colab_type": "text"
      },
      "source": [
        "We have a few meaningful observations here:\n",
        "1. Last contact Weekday seems doesn't affect the subscription rate much, but Month do. And interestingly, the few months which not many calls were made - Sep, Oct, Dec, Mar, seem to be the time when most subscription happens! Maybe we could provide some incentives for staff to make more calls in these months!\n",
        "2. Contacts made through Cellular phones are more effective in a sense that over half of the clients were last contacted through cellular and more subscription rate for them.\n",
        "3. Not surpsingly illiterate clients are underrepresented in our population, but they actually had almost twice subscription rate than the rest. Otherwise, more educated clients had slightly higher subscription rate.\n",
        "4. Clients whose occupation is unknown also performed impressively - maybe we could learn more about their background.\n",
        "5. Clients who stated no default history had higher subscription rate than the rest of the population, while another 2 credit history indicators - \"housing loan\" and \"personal loan\" seems have very limited predictive power.\n",
        "6. Single clients also has higher subsciption.\n",
        "7. Students and retired population had higher subscription rate than other working population.\n",
        "\n",
        "Of course, the observations haven't yet proved to be statistically significant."
      ]
    },
    {
      "cell_type": "markdown",
      "metadata": {
        "id": "-4BxPhlWzBvr",
        "colab_type": "text"
      },
      "source": [
        "## ****Let's see in the months of popular subscription confirmation, what are the traits of clients and campaign.****"
      ]
    },
    {
      "cell_type": "code",
      "metadata": {
        "id": "O5bFqg0npMa5",
        "colab_type": "code",
        "outputId": "d150ad34-5903-4f48-a72e-3564f9ef749d",
        "colab": {
          "base_uri": "https://localhost:8080/",
          "height": 219
        }
      },
      "source": [
        "categorical = [\n",
        "  'job', 'marital', 'education', 'contact','day_of_week'\n",
        "]\n",
        "temp_data = pd.concat([X_train, y_train_ind], axis=1)\n",
        "temp_data = temp_data[temp_data[\"month\"].isin([\"dec\",\"mar\",\"oct\",\"sep\"])]\n",
        "fig, ax = plt.subplots(1, 5, figsize=(20, 4), sharey=True)\n",
        "\n",
        "for variable, subplot in zip(categorical, ax.flatten()):\n",
        "    order = np.array(pd.crosstab(temp_data[variable], temp_data[\"y\"]).index)\n",
        "    sns.countplot(temp_data[variable], ax=subplot, order = order)\n",
        "    for label in subplot.get_xticklabels():\n",
        "        label.set_rotation(90)\n"
      ],
      "execution_count": 0,
      "outputs": [
        {
          "output_type": "display_data",
          "data": {
            "image/png": "[encoded data removed]",
            "text/plain": [
              "<Figure size 1440x288 with 5 Axes>"
            ]
          },
          "metadata": {
            "tags": [],
            "needs_background": "light"
          }
        }
      ]
    },
    {
      "cell_type": "markdown",
      "metadata": {
        "id": "IOqvhY98fm-K",
        "colab_type": "text"
      },
      "source": [
        "It seems like our staff have some preference over what kind of people to contact in the most-subscription-months. People working in admin and technical sectors, people who have higher education, as well as retired are overly represented. Further, a vast majority of the calls were made through cell phones."
      ]
    },
    {
      "cell_type": "markdown",
      "metadata": {
        "id": "V0wvM3icXT_U",
        "colab_type": "text"
      },
      "source": [
        "#### Merging categories based on frequency:"
      ]
    },
    {
      "cell_type": "code",
      "metadata": {
        "id": "ctH3IJAtKE_i",
        "colab_type": "code",
        "outputId": "3ca1fb12-4595-489d-8d8b-5def795daf77",
        "colab": {
          "base_uri": "https://localhost:8080/",
          "height": 68
        }
      },
      "source": [
        "X_train[\"job\"].unique()"
      ],
      "execution_count": 0,
      "outputs": [
        {
          "output_type": "execute_result",
          "data": {
            "text/plain": [
              "array(['technician', 'blue-collar', 'management', 'self-employed',\n",
              "       'admin.', 'services', 'entrepreneur', 'student', 'unemployed',\n",
              "       'housemaid', 'retired', 'unknown'], dtype=object)"
            ]
          },
          "metadata": {
            "tags": []
          },
          "execution_count": 160
        }
      ]
    },
    {
      "cell_type": "code",
      "metadata": {
        "id": "nMKQwTd1N2f0",
        "colab_type": "code",
        "colab": {}
      },
      "source": [
        "X_train[\"job\"]=X_train[\"job\"].replace(('management', 'self-employed',\n",
        "       'services', 'entrepreneur', 'student', 'unemployed',\n",
        "       'housemaid', 'retired', 'unknown'),\n",
        "                                      ('other', 'other',\n",
        "       'other', 'other', 'student/retired', 'other',\n",
        "       'other', 'student/retired', 'other'))"
      ],
      "execution_count": 0,
      "outputs": []
    },
    {
      "cell_type": "code",
      "metadata": {
        "id": "CaDo9o-vOt19",
        "colab_type": "code",
        "outputId": "9320f556-9379-4037-f634-0b9c321d24c1",
        "colab": {
          "base_uri": "https://localhost:8080/",
          "height": 51
        }
      },
      "source": [
        "X_train[\"job\"].unique()"
      ],
      "execution_count": 0,
      "outputs": [
        {
          "output_type": "execute_result",
          "data": {
            "text/plain": [
              "array(['technician', 'blue-collar', 'other', 'admin.', 'student/retired'],\n",
              "      dtype=object)"
            ]
          },
          "metadata": {
            "tags": []
          },
          "execution_count": 164
        }
      ]
    },
    {
      "cell_type": "code",
      "metadata": {
        "id": "WJh0svFDPQGe",
        "colab_type": "code",
        "outputId": "dd90d027-ee77-4e8d-92f3-2a3e16dbac1a",
        "colab": {
          "base_uri": "https://localhost:8080/",
          "height": 34
        }
      },
      "source": [
        "X_train.marital.unique()"
      ],
      "execution_count": 0,
      "outputs": [
        {
          "output_type": "execute_result",
          "data": {
            "text/plain": [
              "array(['married', 'single', 'divorced', 'unknown'], dtype=object)"
            ]
          },
          "metadata": {
            "tags": []
          },
          "execution_count": 165
        }
      ]
    },
    {
      "cell_type": "code",
      "metadata": {
        "id": "0Pumq_7aPV3N",
        "colab_type": "code",
        "colab": {}
      },
      "source": [
        "X_train.marital=X_train.marital.replace((\"divorced\",\"unknown\"),(\"other\",\"other\"))"
      ],
      "execution_count": 0,
      "outputs": []
    },
    {
      "cell_type": "code",
      "metadata": {
        "id": "aNCuUHc6PklD",
        "colab_type": "code",
        "outputId": "1790e6d3-a8ed-4a70-e523-91e2008cebac",
        "colab": {
          "base_uri": "https://localhost:8080/",
          "height": 34
        }
      },
      "source": [
        "X_train.marital.unique()"
      ],
      "execution_count": 0,
      "outputs": [
        {
          "output_type": "execute_result",
          "data": {
            "text/plain": [
              "array(['married', 'single', 'other'], dtype=object)"
            ]
          },
          "metadata": {
            "tags": []
          },
          "execution_count": 167
        }
      ]
    },
    {
      "cell_type": "code",
      "metadata": {
        "id": "Gjkw-5bePnxE",
        "colab_type": "code",
        "outputId": "688d093c-b8bd-4857-8c5a-243ab0d1ba07",
        "colab": {
          "base_uri": "https://localhost:8080/",
          "height": 170
        }
      },
      "source": [
        "X_train[\"education\"].value_counts()"
      ],
      "execution_count": 0,
      "outputs": [
        {
          "output_type": "execute_result",
          "data": {
            "text/plain": [
              "university.degree      9810\n",
              "high.school            7618\n",
              "basic.9y               4840\n",
              "professional.course    4180\n",
              "basic.4y               3319\n",
              "basic.6y               1793\n",
              "unknown                1373\n",
              "illiterate               17\n",
              "Name: education, dtype: int64"
            ]
          },
          "metadata": {
            "tags": []
          },
          "execution_count": 172
        }
      ]
    },
    {
      "cell_type": "code",
      "metadata": {
        "id": "95o8qMDbQQTu",
        "colab_type": "code",
        "colab": {}
      },
      "source": [
        "X_train[\"education\"]= X_train[\"education\"].replace((\"university.degree\",\"high.school\",\"basic.9y\",\"professional.course\",\"basic.4y\",\"basic.6y\",\"unknown\",\"illiterate\"),\n",
        "                                                   (\"university/professional.degree\",\"high.school\",\"basic/lower/unknown\",\"university/professional.degree\",\n",
        "                                                    \"basic/lower/unknown\",\"basic/lower/unknown\",\"basic/lower/unknown\",\"basic/lower/unknown\"))"
      ],
      "execution_count": 0,
      "outputs": []
    },
    {
      "cell_type": "code",
      "metadata": {
        "id": "W_BJOqMzRIjv",
        "colab_type": "code",
        "outputId": "955c541e-ec6d-4d0b-f658-d6d95d0b8265",
        "colab": {
          "base_uri": "https://localhost:8080/",
          "height": 34
        }
      },
      "source": [
        "X_train[\"default\"].unique()"
      ],
      "execution_count": 0,
      "outputs": [
        {
          "output_type": "execute_result",
          "data": {
            "text/plain": [
              "array(['unknown', 'no', 'yes'], dtype=object)"
            ]
          },
          "metadata": {
            "tags": []
          },
          "execution_count": 176
        }
      ]
    },
    {
      "cell_type": "code",
      "metadata": {
        "id": "7bYUIGVURfb5",
        "colab_type": "code",
        "colab": {}
      },
      "source": [
        "X_train[\"default\"] = X_train.default.replace((\"unknown\",\"yes\"),(\"yes/other\",\"yes/other\"))"
      ],
      "execution_count": 0,
      "outputs": []
    },
    {
      "cell_type": "code",
      "metadata": {
        "id": "YLIp73HRRx0A",
        "colab_type": "code",
        "outputId": "e1d11220-9405-4ce7-d147-42404134ab26",
        "colab": {
          "base_uri": "https://localhost:8080/",
          "height": 34
        }
      },
      "source": [
        "X_train.default.unique()"
      ],
      "execution_count": 0,
      "outputs": [
        {
          "output_type": "execute_result",
          "data": {
            "text/plain": [
              "array(['yes/other', 'no'], dtype=object)"
            ]
          },
          "metadata": {
            "tags": []
          },
          "execution_count": 179
        }
      ]
    },
    {
      "cell_type": "code",
      "metadata": {
        "id": "Dwb-siVOR2Og",
        "colab_type": "code",
        "outputId": "4022d3b4-3433-4bed-9012-21cff81e8547",
        "colab": {
          "base_uri": "https://localhost:8080/",
          "height": 34
        }
      },
      "source": [
        "X_train.housing.unique()"
      ],
      "execution_count": 0,
      "outputs": [
        {
          "output_type": "execute_result",
          "data": {
            "text/plain": [
              "array(['yes', 'no', 'unknown'], dtype=object)"
            ]
          },
          "metadata": {
            "tags": []
          },
          "execution_count": 180
        }
      ]
    },
    {
      "cell_type": "code",
      "metadata": {
        "id": "hKLDkdpCR775",
        "colab_type": "code",
        "colab": {}
      },
      "source": [
        "X_train.housing = X_train.housing.replace((\"no\",\"unknown\"),(\"no/other\",\"no/other\"))\n",
        "X_train.housing.unique()"
      ],
      "execution_count": 0,
      "outputs": []
    },
    {
      "cell_type": "code",
      "metadata": {
        "id": "FhM_HbxmSU1t",
        "colab_type": "code",
        "colab": {}
      },
      "source": [
        "X_train.month  = X_train.month.replace((\"sep\",\"oct\",\"dec\",\"mar\"),(\"sep/oct/dec/mar\",\"sep/oct/dec/mar\",\"sep/oct/dec/mar\",\"sep/oct/dec/mar\"))"
      ],
      "execution_count": 0,
      "outputs": []
    },
    {
      "cell_type": "code",
      "metadata": {
        "id": "wmDMZrPMSmvB",
        "colab_type": "code",
        "outputId": "5d824bc6-026e-4593-db9b-1b7b86763482",
        "colab": {
          "base_uri": "https://localhost:8080/",
          "height": 51
        }
      },
      "source": [
        "X_train.month.unique()"
      ],
      "execution_count": 0,
      "outputs": [
        {
          "output_type": "execute_result",
          "data": {
            "text/plain": [
              "array(['may', 'jul', 'apr', 'aug', 'sep/oct/dec/mar', 'nov', 'jun'],\n",
              "      dtype=object)"
            ]
          },
          "metadata": {
            "tags": []
          },
          "execution_count": 183
        }
      ]
    },
    {
      "cell_type": "code",
      "metadata": {
        "id": "P2eMRKwMSyFZ",
        "colab_type": "code",
        "colab": {}
      },
      "source": [
        "X_test[\"job\"]=X_test[\"job\"].replace(('management', 'self-employed',\n",
        "       'services', 'entrepreneur', 'student', 'unemployed',\n",
        "       'housemaid', 'retired', 'unknown'),\n",
        "                                      ('other', 'other',\n",
        "       'other', 'other', 'student/retired', 'other',\n",
        "       'other', 'student/retired', 'other'))\n",
        "X_test.marital=X_test.marital.replace((\"divorced\",\"unknown\"),(\"other\",\"other\"))\n",
        "X_test[\"education\"]= X_test[\"education\"].replace((\"university.degree\",\"high.school\",\"basic.9y\",\"professional.course\",\"basic.4y\",\"basic.6y\",\"unknown\",\"illiterate\"),\n",
        "                                                   (\"university/professional.degree\",\"high.school\",\"basic/lower/unknown\",\"university/professional.degree\",\n",
        "                                                    \"basic/lower/unknown\",\"basic/lower/unknown\",\"basic/lower/unknown\",\"basic/lower/unknown\"))\n",
        "X_test[\"default\"] = X_test.default.replace((\"unknown\",\"yes\"),(\"yes/other\",\"yes/other\"))\n",
        "X_test.housing = X_test.housing.replace((\"no\",\"unknown\"),(\"no/other\",\"no/other\"))\n",
        "X_test.month  = X_test.month.replace((\"sep\",\"oct\",\"dec\",\"mar\"),(\"sep/oct/dec/mar\",\"sep/oct/dec/mar\",\"sep/oct/dec/mar\",\"sep/oct/dec/mar\"))"
      ],
      "execution_count": 0,
      "outputs": []
    },
    {
      "cell_type": "code",
      "metadata": {
        "id": "QnjBoB5Z3SkA",
        "colab_type": "code",
        "outputId": "25f0df58-327e-4bc3-9d99-f2f25111b0d4",
        "colab": {
          "base_uri": "https://localhost:8080/",
          "height": 426
        }
      },
      "source": [
        "categorical = [\n",
        "  'job', 'marital', 'education', 'contact','day_of_week'\n",
        "]\n",
        "temp_data = pd.concat([X_train, y_train_ind], axis=1)\n",
        "temp_data = temp_data[temp_data[\"month\"].isin([\"sep/oct/dec/mar\"])]\n",
        "fig, ax = plt.subplots(1, 5, figsize=(20, 4), sharey=True)\n",
        "\n",
        "for variable, subplot, index in zip(categorical, ax.flatten(),range(5)):\n",
        "    x = np.array(pd.crosstab(temp_data[variable], temp_data[\"y\"]).index)\n",
        "    y1 = np.array(pd.crosstab(temp_data[variable], temp_data[\"y\"]).iloc[:, 0])\n",
        "    y2 = np.array(pd.crosstab(temp_data[variable], temp_data[\"y\"]).iloc[:, 1])\n",
        "    total = np.add(y1,y2)\n",
        "    p1 = np.divide(y1,total)*100\n",
        "    p2 = np.divide(y2,total)*100\n",
        "    #ax[1][0].bar\n",
        "    ax.flat[index].bar(x, p1, label='No', color='lightblue')\n",
        "    # stack y2 on top of y1.\n",
        "    ax.flat[index].bar(x, p2, bottom=p1, label='Yes', color='salmon')\n",
        "    for label in subplot.get_xticklabels():\n",
        "        label.set_rotation(90)"
      ],
      "execution_count": 56,
      "outputs": [
        {
          "output_type": "display_data",
          "data": {
            "image/png": "[encoded data removed]",
            "text/plain": [
              "<Figure size 1440x288 with 5 Axes>"
            ]
          },
          "metadata": {
            "tags": []
          }
        }
      ]
    },
    {
      "cell_type": "markdown",
      "metadata": {
        "id": "1x1lcvjU8KkT",
        "colab_type": "text"
      },
      "source": [
        "Here we have some findings related to success rate:\n",
        "1. People working in admin and tech did subscribe more likey than the rest, but not by much, so it would be a good idea to diversity the occupations in which we choose to call. \n",
        "2. Although staff tend to contact higher educated clients in these  seasons, the subscription rate was actually lower than high school.\n",
        "3. Although way more calls were made through cell phones, the gap in subscription rate between cellular and telephone calls actually narrowed down a lot compared to all year round aggregate statistics - so a good idea is to call more through telephones in these months.\n",
        "4. Monday seems performs worst than other weekdays in terms of subscription rate."
      ]
    },
    {
      "cell_type": "markdown",
      "metadata": {
        "id": "KI1jTkadZfph",
        "colab_type": "text"
      },
      "source": [
        "Let us first select only those categorical features that are more correlated to subscription "
      ]
    },
    {
      "cell_type": "code",
      "metadata": {
        "id": "o-3xLmoHZ7Jd",
        "colab_type": "code",
        "colab": {}
      },
      "source": [
        "X_train.drop(['default', 'housing', 'loan','day_of_week'],axis=1, inplace = True)\n",
        "X_test.drop(['default', 'housing', 'loan','day_of_week'],axis=1, inplace = True)"
      ],
      "execution_count": 0,
      "outputs": []
    },
    {
      "cell_type": "markdown",
      "metadata": {
        "id": "Jym_6KWJXf6D",
        "colab_type": "text"
      },
      "source": [
        "## Data Preprocessing"
      ]
    },
    {
      "cell_type": "markdown",
      "metadata": {
        "id": "8zPjq2rhXlk8",
        "colab_type": "text"
      },
      "source": [
        "Let us standardize the data to make training on a wider diversity of models possible, since our numerical features has very diverse magnitude. "
      ]
    },
    {
      "cell_type": "code",
      "metadata": {
        "id": "MgJbtaWiGPSh",
        "colab_type": "code",
        "colab": {}
      },
      "source": [
        "num_cols = [\"previous\",\"adj_campaign\",\"adj.cons.price.idx\",\"adj.cons.conf.idx\"]\n",
        "cat_cols = ['job', 'marital', 'education',\n",
        "       'contact', 'month','poutcome','nr.employed']"
      ],
      "execution_count": 0,
      "outputs": []
    },
    {
      "cell_type": "code",
      "metadata": {
        "id": "avKn3vHzkrUA",
        "colab_type": "code",
        "colab": {}
      },
      "source": [
        "from sklearn.preprocessing import MinMaxScaler\n",
        "\n",
        "scaler = preprocessing.MinMaxScaler().fit(X_train[num_cols])\n",
        "\n",
        "stand_num_X_train = pd.DataFrame(scaler.transform(X_train[num_cols]),columns=num_cols).reset_index(drop=True)\n",
        "stand_num_X_test = pd.DataFrame(scaler.transform(X_test[num_cols]),columns = num_cols).reset_index(drop=True)\n",
        "cat_X_train = pd.DataFrame(X_train[cat_cols]).reset_index(drop=True)\n",
        "cat_X_test = pd.DataFrame(X_test[cat_cols]).reset_index(drop=True)\n",
        "\n",
        "\n",
        "stand_X_train = pd.concat([stand_num_X_train, cat_X_train], axis=1)\n",
        "stand_X_test = pd.concat([stand_num_X_test, cat_X_test], axis=1)"
      ],
      "execution_count": 0,
      "outputs": []
    },
    {
      "cell_type": "markdown",
      "metadata": {
        "id": "YqmXPHeAuZoT",
        "colab_type": "text"
      },
      "source": [
        "#### Convert the non numerical labels to numerical ones "
      ]
    },
    {
      "cell_type": "code",
      "metadata": {
        "id": "zDeHfMo9tcOM",
        "colab_type": "code",
        "colab": {}
      },
      "source": [
        "from sklearn.preprocessing import OneHotEncoder\n",
        "from sklearn.compose import ColumnTransformer"
      ],
      "execution_count": 0,
      "outputs": []
    },
    {
      "cell_type": "code",
      "metadata": {
        "id": "KYAxO8M5GrPT",
        "colab_type": "code",
        "colab": {}
      },
      "source": [
        "stand_X = pd.concat([stand_X_train, stand_X_test])"
      ],
      "execution_count": 0,
      "outputs": []
    },
    {
      "cell_type": "code",
      "metadata": {
        "id": "pX4AAJAZnhJG",
        "colab_type": "code",
        "outputId": "3e5c2950-e7fe-40d0-d470-22be889b3331",
        "colab": {
          "base_uri": "https://localhost:8080/",
          "height": 204
        }
      },
      "source": [
        "stand_X.head()"
      ],
      "execution_count": 124,
      "outputs": [
        {
          "output_type": "execute_result",
          "data": {
            "text/html": [
              "<div>\n",
              "<style scoped>\n",
              "    .dataframe tbody tr th:only-of-type {\n",
              "        vertical-align: middle;\n",
              "    }\n",
              "\n",
              "    .dataframe tbody tr th {\n",
              "        vertical-align: top;\n",
              "    }\n",
              "\n",
              "    .dataframe thead th {\n",
              "        text-align: right;\n",
              "    }\n",
              "</style>\n",
              "<table border=\"1\" class=\"dataframe\">\n",
              "  <thead>\n",
              "    <tr style=\"text-align: right;\">\n",
              "      <th></th>\n",
              "      <th>previous</th>\n",
              "      <th>adj_campaign</th>\n",
              "      <th>adj.cons.price.idx</th>\n",
              "      <th>adj.cons.conf.idx</th>\n",
              "      <th>job</th>\n",
              "      <th>marital</th>\n",
              "      <th>education</th>\n",
              "      <th>contact</th>\n",
              "      <th>month</th>\n",
              "      <th>poutcome</th>\n",
              "      <th>nr.employed</th>\n",
              "    </tr>\n",
              "  </thead>\n",
              "  <tbody>\n",
              "    <tr>\n",
              "      <th>0</th>\n",
              "      <td>0.0</td>\n",
              "      <td>0.001251</td>\n",
              "      <td>0.959707</td>\n",
              "      <td>0.183325</td>\n",
              "      <td>technician</td>\n",
              "      <td>married</td>\n",
              "      <td>university/professional.degree</td>\n",
              "      <td>telephone</td>\n",
              "      <td>may</td>\n",
              "      <td>nonexistent</td>\n",
              "      <td>5100-5199</td>\n",
              "    </tr>\n",
              "    <tr>\n",
              "      <th>1</th>\n",
              "      <td>0.0</td>\n",
              "      <td>0.000625</td>\n",
              "      <td>0.961296</td>\n",
              "      <td>0.182003</td>\n",
              "      <td>blue-collar</td>\n",
              "      <td>married</td>\n",
              "      <td>basic/lower/unknown</td>\n",
              "      <td>telephone</td>\n",
              "      <td>may</td>\n",
              "      <td>nonexistent</td>\n",
              "      <td>5100-5199</td>\n",
              "    </tr>\n",
              "    <tr>\n",
              "      <th>2</th>\n",
              "      <td>0.0</td>\n",
              "      <td>0.001251</td>\n",
              "      <td>0.982634</td>\n",
              "      <td>0.001329</td>\n",
              "      <td>technician</td>\n",
              "      <td>married</td>\n",
              "      <td>university/professional.degree</td>\n",
              "      <td>cellular</td>\n",
              "      <td>jul</td>\n",
              "      <td>nonexistent</td>\n",
              "      <td>5200orAbove</td>\n",
              "    </tr>\n",
              "    <tr>\n",
              "      <th>3</th>\n",
              "      <td>0.0</td>\n",
              "      <td>0.000000</td>\n",
              "      <td>0.172879</td>\n",
              "      <td>0.757179</td>\n",
              "      <td>blue-collar</td>\n",
              "      <td>single</td>\n",
              "      <td>high.school</td>\n",
              "      <td>cellular</td>\n",
              "      <td>apr</td>\n",
              "      <td>nonexistent</td>\n",
              "      <td>Below5100</td>\n",
              "    </tr>\n",
              "    <tr>\n",
              "      <th>4</th>\n",
              "      <td>0.0</td>\n",
              "      <td>0.000000</td>\n",
              "      <td>0.977404</td>\n",
              "      <td>0.170846</td>\n",
              "      <td>technician</td>\n",
              "      <td>single</td>\n",
              "      <td>university/professional.degree</td>\n",
              "      <td>cellular</td>\n",
              "      <td>aug</td>\n",
              "      <td>nonexistent</td>\n",
              "      <td>5200orAbove</td>\n",
              "    </tr>\n",
              "  </tbody>\n",
              "</table>\n",
              "</div>"
            ],
            "text/plain": [
              "   previous  adj_campaign  adj.cons.price.idx  ...  month     poutcome  nr.employed\n",
              "0       0.0      0.001251            0.959707  ...    may  nonexistent    5100-5199\n",
              "1       0.0      0.000625            0.961296  ...    may  nonexistent    5100-5199\n",
              "2       0.0      0.001251            0.982634  ...    jul  nonexistent  5200orAbove\n",
              "3       0.0      0.000000            0.172879  ...    apr  nonexistent    Below5100\n",
              "4       0.0      0.000000            0.977404  ...    aug  nonexistent  5200orAbove\n",
              "\n",
              "[5 rows x 11 columns]"
            ]
          },
          "metadata": {
            "tags": []
          },
          "execution_count": 124
        }
      ]
    },
    {
      "cell_type": "code",
      "metadata": {
        "id": "5URdg-ht0gYn",
        "colab_type": "code",
        "colab": {}
      },
      "source": [
        "one_hot = OneHotEncoder()\n",
        "cat_cols = ['job', 'marital', 'education',\n",
        "       'contact', 'month', 'poutcome','nr.employed']\n",
        "transformer = ColumnTransformer([(\"one_hot\",\n",
        "                                  one_hot,\n",
        "                                  cat_cols)],\n",
        "                                remainder = \"passthrough\")\n",
        "transformed_X = transformer.fit_transform(stand_X)"
      ],
      "execution_count": 0,
      "outputs": []
    },
    {
      "cell_type": "code",
      "metadata": {
        "id": "lRaSyAe9K4Z9",
        "colab_type": "code",
        "outputId": "3f508cb9-1aa8-4c0a-a273-ed370504db73",
        "colab": {
          "base_uri": "https://localhost:8080/",
          "height": 238
        }
      },
      "source": [
        "transformed_X"
      ],
      "execution_count": 126,
      "outputs": [
        {
          "output_type": "execute_result",
          "data": {
            "text/plain": [
              "array([[0.00000000e+00, 0.00000000e+00, 0.00000000e+00, ...,\n",
              "        1.25078174e-03, 9.59706645e-01, 1.83325241e-01],\n",
              "       [0.00000000e+00, 1.00000000e+00, 0.00000000e+00, ...,\n",
              "        6.25390869e-04, 9.61295858e-01, 1.82003428e-01],\n",
              "       [0.00000000e+00, 0.00000000e+00, 0.00000000e+00, ...,\n",
              "        1.25078174e-03, 9.82633976e-01, 1.32907531e-03],\n",
              "       ...,\n",
              "       [0.00000000e+00, 0.00000000e+00, 1.00000000e+00, ...,\n",
              "        6.25390869e-04, 9.59706645e-01, 1.83325241e-01],\n",
              "       [1.00000000e+00, 0.00000000e+00, 0.00000000e+00, ...,\n",
              "        6.25390869e-04, 1.48477872e-01, 7.89143914e-01],\n",
              "       [0.00000000e+00, 1.00000000e+00, 0.00000000e+00, ...,\n",
              "        1.18824265e-02, 1.46682903e-01, 7.91061268e-01]])"
            ]
          },
          "metadata": {
            "tags": []
          },
          "execution_count": 126
        }
      ]
    },
    {
      "cell_type": "code",
      "metadata": {
        "id": "kdJy-3gJ67xN",
        "colab_type": "code",
        "colab": {}
      },
      "source": [
        "transformed_X_train = transformed_X[:32950]\n",
        "transformed_X_test = transformed_X[32950:]\n",
        "transformed_y_train = y_train.replace((\"yes\",\"no\"),(1,0))\n",
        "transformed_y_test = y_test.replace((\"yes\",\"no\"),(1,0))"
      ],
      "execution_count": 0,
      "outputs": []
    },
    {
      "cell_type": "code",
      "metadata": {
        "id": "ryM9gm1D89rY",
        "colab_type": "code",
        "outputId": "bce62c02-dc46-4a0d-951a-c738a46b91c7",
        "colab": {
          "base_uri": "https://localhost:8080/",
          "height": 34
        }
      },
      "source": [
        "transformed_X_train.shape, transformed_X_test.shape"
      ],
      "execution_count": 128,
      "outputs": [
        {
          "output_type": "execute_result",
          "data": {
            "text/plain": [
              "((32950, 30), (8238, 30))"
            ]
          },
          "metadata": {
            "tags": []
          },
          "execution_count": 128
        }
      ]
    },
    {
      "cell_type": "markdown",
      "metadata": {
        "id": "gAYB_4NN-Ygq",
        "colab_type": "text"
      },
      "source": [
        "### Modelling"
      ]
    },
    {
      "cell_type": "markdown",
      "metadata": {
        "id": "vimHXdWd4e2r",
        "colab_type": "text"
      },
      "source": [
        "Let's try fit the training data with Logistic regression, Complement Naive Bayes and Random Forest classifier, then compare the accuracy and f1 score under 5-fold cross validation. We choose also f1 because our data has imbalanced class and accuracy is of limited value, while f1 could give us an aggregate measure on recall and precision, both reflects the modelling efficiency better."
      ]
    },
    {
      "cell_type": "code",
      "metadata": {
        "id": "uWe-GkJn43MD",
        "colab_type": "code",
        "colab": {}
      },
      "source": [
        "# Models from Scikit-Learn\n",
        "from sklearn.linear_model import LogisticRegression\n",
        "from sklearn.naive_bayes import ComplementNB\n",
        "from sklearn.ensemble import RandomForestClassifier\n",
        "\n",
        "# Model Evaluation\n",
        "from sklearn.model_selection import cross_val_score, RandomizedSearchCV, GridSearchCV\n",
        "from sklearn.metrics import confusion_matrix, classification_report\n",
        "from sklearn.metrics import precision_score, recall_score, f1_score\n",
        "from sklearn.metrics import plot_roc_curve"
      ],
      "execution_count": 0,
      "outputs": []
    },
    {
      "cell_type": "code",
      "metadata": {
        "id": "Nw_TN_WN4Zqi",
        "colab_type": "code",
        "colab": {}
      },
      "source": [
        "models = {\"Logistic Regression\": LogisticRegression(max_iter = 1000),\n",
        "          \"Complement Naive Bayes\": ComplementNB(),\n",
        "          \"Random Forest\": RandomForestClassifier(n_estimators=20)}\n",
        "\n",
        "def fit_and_score(models, transformed_X_train, transformed_y_train):\n",
        "    for name, model in models.items():\n",
        "        clf = model.fit(transformed_X_train, transformed_y_train)\n",
        "        acc = np.mean(cross_val_score( clf, transformed_X_train, transformed_y_train,cv=5, n_jobs=-1))\n",
        "        f1 = np.mean(cross_val_score( clf, transformed_X_train, transformed_y_train, scoring = \"f1\",cv=5, n_jobs=-1))\n",
        "        print(f\"{name}: cv accuracy:{acc}, cv f1 score:{f1}\")"
      ],
      "execution_count": 0,
      "outputs": []
    },
    {
      "cell_type": "code",
      "metadata": {
        "id": "dnYxl9Af6X1d",
        "colab_type": "code",
        "colab": {
          "base_uri": "https://localhost:8080/",
          "height": 68
        },
        "outputId": "9938d263-dca9-46c5-e921-df9bd791b7f4"
      },
      "source": [
        "models_score = fit_and_score(models,\n",
        "                             transformed_X_train, \n",
        "                             transformed_y_train\n",
        "                             )"
      ],
      "execution_count": 157,
      "outputs": [
        {
          "output_type": "stream",
          "text": [
            "Logistic Regression: cv accuracy:0.8987961557916033, cv f1 score:0.2960235084208743\n",
            "Complement Naive Bayes: cv accuracy:0.7440667678300454, cv f1 score:0.3781928573804205\n",
            "Random Forest: cv accuracy:0.8848457258472433, cv f1 score:0.3651505905354467\n"
          ],
          "name": "stdout"
        }
      ]
    },
    {
      "cell_type": "markdown",
      "metadata": {
        "id": "gfk0k_0yA3eN",
        "colab_type": "text"
      },
      "source": [
        "Our models do not perform well in terms of f1 score, this is probably due to the fact that our data has imbalanced class. Since the Random Forest classifier accuracy but not much lower f1 than Complement Naive Bayes classifier. We shall focus on it. "
      ]
    },
    {
      "cell_type": "markdown",
      "metadata": {
        "id": "JekcdZGBwyYO",
        "colab_type": "text"
      },
      "source": [
        "Hyperparameter Tuning with Randomized Grid Search"
      ]
    },
    {
      "cell_type": "code",
      "metadata": {
        "id": "w0uei_k1qHXW",
        "colab_type": "code",
        "colab": {}
      },
      "source": [
        "# Create a hyperamaeter grid for RandomForestClassifier\n",
        "rf_grid = {\"n_estimators\": np.arange(20,200,10),\n",
        "          \"max_depth\": [None, 3, 5, 10],\n",
        "          \"min_samples_split\": np.arange(2,20,2),\n",
        "          'min_samples_leaf': np.arange(1,4)}"
      ],
      "execution_count": 0,
      "outputs": []
    },
    {
      "cell_type": "code",
      "metadata": {
        "id": "GgN6rPxLw_k_",
        "colab_type": "code",
        "colab": {
          "base_uri": "https://localhost:8080/",
          "height": 476
        },
        "outputId": "4bf8bdbf-72d0-4649-ad61-425eccf4c7a1"
      },
      "source": [
        "np.random.seed(45)\n",
        "\n",
        "# Setup random hyperparameter search for RandomForest()\n",
        "rs_rf = RandomizedSearchCV(RandomForestClassifier(),\n",
        "                               param_distributions=rf_grid,\n",
        "                               cv=5,\n",
        "                               n_iter=20,\n",
        "                               verbose=True)\n",
        "# Fit random hyperparameter search model for RandomForest\n",
        "rs_rf.fit(transformed_X_train, transformed_y_train)"
      ],
      "execution_count": 161,
      "outputs": [
        {
          "output_type": "stream",
          "text": [
            "Fitting 5 folds for each of 20 candidates, totalling 100 fits\n"
          ],
          "name": "stdout"
        },
        {
          "output_type": "stream",
          "text": [
            "[Parallel(n_jobs=1)]: Using backend SequentialBackend with 1 concurrent workers.\n",
            "[Parallel(n_jobs=1)]: Done 100 out of 100 | elapsed:  2.5min finished\n"
          ],
          "name": "stderr"
        },
        {
          "output_type": "execute_result",
          "data": {
            "text/plain": [
              "RandomizedSearchCV(cv=5, error_score=nan,\n",
              "                   estimator=RandomForestClassifier(bootstrap=True,\n",
              "                                                    ccp_alpha=0.0,\n",
              "                                                    class_weight=None,\n",
              "                                                    criterion='gini',\n",
              "                                                    max_depth=None,\n",
              "                                                    max_features='auto',\n",
              "                                                    max_leaf_nodes=None,\n",
              "                                                    max_samples=None,\n",
              "                                                    min_impurity_decrease=0.0,\n",
              "                                                    min_impurity_split=None,\n",
              "                                                    min_samples_leaf=1,\n",
              "                                                    min_samples_split=2,\n",
              "                                                    min_weight_fraction_leaf=0.0,\n",
              "                                                    n_estimators=100,\n",
              "                                                    n_jobs...\n",
              "                   iid='deprecated', n_iter=20, n_jobs=None,\n",
              "                   param_distributions={'max_depth': [None, 3, 5, 10],\n",
              "                                        'min_samples_leaf': array([1, 2, 3]),\n",
              "                                        'min_samples_split': array([ 2,  4,  6,  8, 10, 12, 14, 16, 18]),\n",
              "                                        'n_estimators': array([ 20,  30,  40,  50,  60,  70,  80,  90, 100, 110, 120, 130, 140,\n",
              "       150, 160, 170, 180, 190])},\n",
              "                   pre_dispatch='2*n_jobs', random_state=None, refit=True,\n",
              "                   return_train_score=False, scoring=None, verbose=True)"
            ]
          },
          "metadata": {
            "tags": []
          },
          "execution_count": 161
        }
      ]
    },
    {
      "cell_type": "code",
      "metadata": {
        "id": "W73tMcXRzeO3",
        "colab_type": "code",
        "colab": {
          "base_uri": "https://localhost:8080/",
          "height": 85
        },
        "outputId": "67c44661-19de-4b3b-88fd-491d2093fe1b"
      },
      "source": [
        "rs_rf.best_params_"
      ],
      "execution_count": 162,
      "outputs": [
        {
          "output_type": "execute_result",
          "data": {
            "text/plain": [
              "{'max_depth': 10,\n",
              " 'min_samples_leaf': 3,\n",
              " 'min_samples_split': 12,\n",
              " 'n_estimators': 160}"
            ]
          },
          "metadata": {
            "tags": []
          },
          "execution_count": 162
        }
      ]
    },
    {
      "cell_type": "code",
      "metadata": {
        "id": "RGjkQbl-zo2X",
        "colab_type": "code",
        "colab": {
          "base_uri": "https://localhost:8080/",
          "height": 34
        },
        "outputId": "7a7d27be-5c98-4005-978b-df615edcf626"
      },
      "source": [
        "# Evaluate the accuaracy of the randomized search RF Classifier\n",
        "rs_rf.score(transformed_X_test, transformed_y_test)"
      ],
      "execution_count": 163,
      "outputs": [
        {
          "output_type": "execute_result",
          "data": {
            "text/plain": [
              "0.8976693372177713"
            ]
          },
          "metadata": {
            "tags": []
          },
          "execution_count": 163
        }
      ]
    },
    {
      "cell_type": "code",
      "metadata": {
        "id": "XwBvR12Pz9Tx",
        "colab_type": "code",
        "colab": {}
      },
      "source": [
        "# What about the ROC curve?"
      ],
      "execution_count": 0,
      "outputs": []
    },
    {
      "cell_type": "code",
      "metadata": {
        "id": "lfb1jatRyTKJ",
        "colab_type": "code",
        "colab": {
          "base_uri": "https://localhost:8080/",
          "height": 285
        },
        "outputId": "11858024-5f8a-42a5-a572-ec50e38492f9"
      },
      "source": [
        "plot_roc_curve(rs_rf, transformed_X_test, transformed_y_test);"
      ],
      "execution_count": 164,
      "outputs": [
        {
          "output_type": "display_data",
          "data": {
            "image/png": "[encoded data removed]",
            "text/plain": [
              "<Figure size 432x288 with 1 Axes>"
            ]
          },
          "metadata": {
            "tags": []
          }
        }
      ]
    },
    {
      "cell_type": "code",
      "metadata": {
        "id": "Zq8ecdAP045Z",
        "colab_type": "code",
        "colab": {}
      },
      "source": [
        "y_preds= rs_rf.predict(transformed_X_test)"
      ],
      "execution_count": 0,
      "outputs": []
    },
    {
      "cell_type": "markdown",
      "metadata": {
        "id": "xlYCR91w0aj4",
        "colab_type": "text"
      },
      "source": [
        "Let's look at the confusion matrix"
      ]
    },
    {
      "cell_type": "code",
      "metadata": {
        "id": "zAEyBg1dy-dg",
        "colab_type": "code",
        "colab": {
          "base_uri": "https://localhost:8080/",
          "height": 243
        },
        "outputId": "711d35e2-6ea7-41ff-a61c-7189d7b093b1"
      },
      "source": [
        "sns.set(font_scale=1.5)\n",
        "\n",
        "def plot_conf_mat(y_test, y_preds):\n",
        "    fig, ax = plt.subplots(figsize=(3,3))\n",
        "    ax = sns.heatmap(confusion_matrix(y_test, y_preds),\n",
        "                    annot=True,\n",
        "                    cbar=False,\n",
        "                     fmt='d',\n",
        "                     cmap=\"plasma\")\n",
        "    plt.ylabel(\"True label\")\n",
        "    plt.xlabel(\"Predicted label\")\n",
        "plot_conf_mat(transformed_y_test, y_preds);   \n",
        "    "
      ],
      "execution_count": 169,
      "outputs": [
        {
          "output_type": "display_data",
          "data": {
            "image/png": "[encoded data removed]",
            "text/plain": [
              "<Figure size 216x216 with 1 Axes>"
            ]
          },
          "metadata": {
            "tags": []
          }
        }
      ]
    },
    {
      "cell_type": "code",
      "metadata": {
        "id": "SQdSvc0-zDrE",
        "colab_type": "code",
        "colab": {
          "base_uri": "https://localhost:8080/",
          "height": 170
        },
        "outputId": "36d839ba-ca86-4216-d64e-f1facd0c4834"
      },
      "source": [
        "print(classification_report(transformed_y_test, y_preds))"
      ],
      "execution_count": 168,
      "outputs": [
        {
          "output_type": "stream",
          "text": [
            "              precision    recall  f1-score   support\n",
            "\n",
            "           0       0.91      0.99      0.94      7298\n",
            "           1       0.66      0.21      0.32       940\n",
            "\n",
            "    accuracy                           0.90      8238\n",
            "   macro avg       0.79      0.60      0.63      8238\n",
            "weighted avg       0.88      0.90      0.87      8238\n",
            "\n"
          ],
          "name": "stdout"
        }
      ]
    },
    {
      "cell_type": "code",
      "metadata": {
        "id": "MkfsQ_L817lJ",
        "colab_type": "code",
        "colab": {}
      },
      "source": [
        ""
      ],
      "execution_count": 0,
      "outputs": []
    }
  ]
}